{
 "cells": [
  {
   "cell_type": "markdown",
   "metadata": {},
   "source": [
    "Code is from\n",
    "https://github.com/warmspringwinds/tensorflow_notes/blob/master/tfrecords_guide.ipynb"
   ]
  },
  {
   "cell_type": "code",
   "execution_count": 1,
   "metadata": {},
   "outputs": [],
   "source": [
    "import time\n",
    "\n",
    "def time_usage(func):\n",
    "    def wrapper(*args, **kwargs):\n",
    "        beg_ts = time.time()\n",
    "        retval = func(*args, **kwargs)\n",
    "        end_ts = time.time() \n",
    "        print(\"elapsed time: %f\" % (end_ts - beg_ts))\n",
    "        return retval\n",
    "    return wrapper"
   ]
  },
  {
   "cell_type": "code",
   "execution_count": 6,
   "metadata": {},
   "outputs": [
    {
     "name": "stdout",
     "output_type": "stream",
     "text": [
      "['/home/walterms/project/walterms/mcmd/nn/cnn/tfrecords/edge15.5.tfrecords', '/home/walterms/project/walterms/mcmd/nn/cnn/tfrecords/edge40.tfrecords']\n"
     ]
    }
   ],
   "source": [
    "imgpath = \"/home/walterms/project/walterms/mcmd/output/edgevar/imgs/\"\n",
    "# labels -- [iso, D, T, X, U, L]\n",
    "# runs = {\"edge15\":}\n",
    "runs = {\"edge15.5\": 1, \"edge40\": 0}\n",
    "# runs = {\"edge15\": 1, \"edge16\": -1, \"edge20\": -1, \n",
    "#         \"edge30\": -1, \"edge35\": -1, \"edge40\": 0}\n",
    "tfrecord_dir = \"/home/walterms/project/walterms/mcmd/nn/cnn/tfrecords/\"\n",
    "tfrecord_list = [tfrecord_dir+run+\".tfrecords\" for run in runs]\n",
    "print tfrecord_list"
   ]
  },
  {
   "cell_type": "code",
   "execution_count": 5,
   "metadata": {},
   "outputs": [
    {
     "name": "stdout",
     "output_type": "stream",
     "text": [
      "['/home/walterms/project/walterms/mcmd/nn/cnn/data/benchmark/T_156.png', '/home/walterms/project/walterms/mcmd/nn/cnn/data/benchmark/edge10.png', '/home/walterms/project/walterms/mcmd/nn/cnn/data/benchmark/X_0.png', '/home/walterms/project/walterms/mcmd/nn/cnn/data/benchmark/X_1.png', '/home/walterms/project/walterms/mcmd/nn/cnn/data/benchmark/X_144.png', '/home/walterms/project/walterms/mcmd/nn/cnn/data/benchmark/T_1.png', '/home/walterms/project/walterms/mcmd/nn/cnn/data/benchmark/T_0.png', '/home/walterms/project/walterms/mcmd/nn/cnn/data/benchmark/edge15.png', '/home/walterms/project/walterms/mcmd/nn/cnn/data/benchmark/edge40.png']\n"
     ]
    }
   ],
   "source": [
    "import os\n",
    "imgpath = \"/home/walterms/project/walterms/mcmd/nn/cnn/data/benchmark/\"\n",
    "paths = [imgpath+x for x in os.listdir(imgpath)]\n",
    "print fnames"
   ]
  },
  {
   "cell_type": "code",
   "execution_count": 7,
   "metadata": {},
   "outputs": [
    {
     "name": "stdout",
     "output_type": "stream",
     "text": [
      "/home/walterms/project/walterms/mcmd/output/edgevar/imgs/edge15.5/500_999.tar.gz\n",
      "/home/walterms/project/walterms/mcmd/output/edgevar/imgs/edge15.5/7000_7499.tar.gz\n",
      "/home/walterms/project/walterms/mcmd/output/edgevar/imgs/edge15.5/5500_5999.tar.gz\n",
      "/home/walterms/project/walterms/mcmd/output/edgevar/imgs/edge15.5/2500_2999.tar.gz\n",
      "/home/walterms/project/walterms/mcmd/output/edgevar/imgs/edge15.5/7500_7999.tar.gz\n",
      "/home/walterms/project/walterms/mcmd/output/edgevar/imgs/edge15.5/2000_2499.tar.gz\n",
      "/home/walterms/project/walterms/mcmd/output/edgevar/imgs/edge15.5/5000_5499.tar.gz\n",
      "/home/walterms/project/walterms/mcmd/output/edgevar/imgs/edge15.5/3000_3499.tar.gz\n",
      "/home/walterms/project/walterms/mcmd/output/edgevar/imgs/edge15.5/8500_8999.tar.gz\n",
      "/home/walterms/project/walterms/mcmd/output/edgevar/imgs/edge15.5/9500_9999.tar.gz\n",
      "/home/walterms/project/walterms/mcmd/output/edgevar/imgs/edge15.5/8000_8499.tar.gz\n",
      "/home/walterms/project/walterms/mcmd/output/edgevar/imgs/edge15.5/6000_6499.tar.gz\n",
      "/home/walterms/project/walterms/mcmd/output/edgevar/imgs/edge15.5/3500_3999.tar.gz\n",
      "/home/walterms/project/walterms/mcmd/output/edgevar/imgs/edge15.5/9000_9499.tar.gz\n",
      "/home/walterms/project/walterms/mcmd/output/edgevar/imgs/edge15.5/4500_4999.tar.gz\n",
      "/home/walterms/project/walterms/mcmd/output/edgevar/imgs/edge15.5/1500_1999.tar.gz\n",
      "/home/walterms/project/walterms/mcmd/output/edgevar/imgs/edge15.5/1000_1499.tar.gz\n",
      "/home/walterms/project/walterms/mcmd/output/edgevar/imgs/edge15.5/4000_4499.tar.gz\n",
      "/home/walterms/project/walterms/mcmd/output/edgevar/imgs/edge15.5/6500_6999.tar.gz\n",
      "/home/walterms/project/walterms/mcmd/output/edgevar/imgs/edge40/2500_2999.tar.gz\n",
      "/home/walterms/project/walterms/mcmd/output/edgevar/imgs/edge40/7500_7999.tar.gz\n",
      "/home/walterms/project/walterms/mcmd/output/edgevar/imgs/edge40/2000_2499.tar.gz\n",
      "/home/walterms/project/walterms/mcmd/output/edgevar/imgs/edge40/5000_5499.tar.gz\n",
      "/home/walterms/project/walterms/mcmd/output/edgevar/imgs/edge40/3000_3499.tar.gz\n",
      "/home/walterms/project/walterms/mcmd/output/edgevar/imgs/edge40/8500_8999.tar.gz\n",
      "/home/walterms/project/walterms/mcmd/output/edgevar/imgs/edge40/8000_8499.tar.gz\n",
      "/home/walterms/project/walterms/mcmd/output/edgevar/imgs/edge40/6000_6499.tar.gz\n",
      "/home/walterms/project/walterms/mcmd/output/edgevar/imgs/edge40/3500_3999.tar.gz\n",
      "/home/walterms/project/walterms/mcmd/output/edgevar/imgs/edge40/4500_4999.tar.gz\n",
      "/home/walterms/project/walterms/mcmd/output/edgevar/imgs/edge40/1500_1999.tar.gz\n",
      "/home/walterms/project/walterms/mcmd/output/edgevar/imgs/edge40/1000_1499.tar.gz\n",
      "/home/walterms/project/walterms/mcmd/output/edgevar/imgs/edge40/4000_4499.tar.gz\n",
      "/home/walterms/project/walterms/mcmd/output/edgevar/imgs/edge40/6500_6999.tar.gz\n",
      "/home/walterms/project/walterms/mcmd/output/edgevar/imgs/edge40/0_499.tar.gz\n",
      "elapsed time: 1494.321237\n"
     ]
    }
   ],
   "source": [
    "writeRecords(imgpath,runs)"
   ]
  },
  {
   "cell_type": "code",
   "execution_count": 3,
   "metadata": {},
   "outputs": [],
   "source": [
    "# Create TFRecord\n",
    "\n",
    "# Important: We are using PIL to read .png files later.\n",
    "# This was done on purpose to read indexed png files\n",
    "# in a special way -- only indexes and not map the indexes\n",
    "# to actual rgb values. This is specific to PASCAL VOC\n",
    "# dataset data. If you don't want thit type of behaviour\n",
    "# consider using skimage.io.imread()\n",
    "from PIL import Image\n",
    "import numpy as np\n",
    "import tarfile\n",
    "import os\n",
    "import skimage.io as io\n",
    "import tensorflow as tf\n",
    "import matplotlib.pyplot as plt\n",
    "%matplotlib inline\n",
    "\n",
    "IMG_HEIGHT = 128\n",
    "IMG_WIDTH = 128\n",
    "\n",
    "def _bytes_feature(value):\n",
    "    return tf.train.Feature(bytes_list=tf.train.BytesList(value=[value]))\n",
    "\n",
    "def _int64_feature(value):\n",
    "    return tf.train.Feature(int64_list=tf.train.Int64List(value=[value]))\n",
    "\n",
    "\n",
    "# for img_path in filenames:\n",
    "@time_usage\n",
    "def writeRecords(imgpath, runs):\n",
    "    for run in runs:\n",
    "        tfrecord_filename = \"tfrecords/\"+run+\".tfrecords\"\n",
    "\n",
    "        writer = tf.python_io.TFRecordWriter(tfrecord_filename)\n",
    "\n",
    "        # Let's collect the real images to later on compare\n",
    "        # to the reconstructed ones\n",
    "        original_images = []\n",
    "\n",
    "        zips = os.listdir(imgpath+run)\n",
    "        for batch in zips:\n",
    "            with tarfile.open(imgpath+run+\"/\"+batch,'r:gz') as tarf:\n",
    "                cnt = 0\n",
    "                print imgpath+run+\"/\"+batch\n",
    "                for member in tarf:\n",
    "                    cnt += 1\n",
    "                    tar_img = tarf.extractfile(member)\n",
    "                    img = np.array(Image.open(tar_img))\n",
    "                    img_reduced = np.zeros(shape=(128,128,1), dtype=np.uint8)\n",
    "                    for i in range(128):\n",
    "                        for j in range(128):\n",
    "                            img_reduced[i][j] = img[i][j][0]\n",
    "\n",
    "                    img_raw = img_reduced.tostring()\n",
    "    \n",
    "                    if runs[run] == -1:\n",
    "                        example = tf.train.Example(features=tf.train.Features(feature={\n",
    "                            'height': _int64_feature(IMG_HEIGHT),\n",
    "                            'width': _int64_feature(IMG_WIDTH),\n",
    "                            'image_raw': _bytes_feature(img_raw)}))\n",
    "                    else:\n",
    "                        example = tf.train.Example(features=tf.train.Features(feature={\n",
    "                            'height': _int64_feature(IMG_HEIGHT),\n",
    "                            'width': _int64_feature(IMG_WIDTH),\n",
    "                            'image_raw': _bytes_feature(img_raw),\n",
    "                            'label': _int64_feature(runs[run])}))\n",
    "\n",
    "                    writer.write(example.SerializeToString())\n",
    "\n",
    "        writer.close()"
   ]
  },
  {
   "cell_type": "code",
   "execution_count": null,
   "metadata": {},
   "outputs": [],
   "source": []
  }
 ],
 "metadata": {
  "kernelspec": {
   "display_name": "Python 2",
   "language": "python",
   "name": "python2"
  },
  "language_info": {
   "codemirror_mode": {
    "name": "ipython",
    "version": 2
   },
   "file_extension": ".py",
   "mimetype": "text/x-python",
   "name": "python",
   "nbconvert_exporter": "python",
   "pygments_lexer": "ipython2",
   "version": "2.7.13"
  }
 },
 "nbformat": 4,
 "nbformat_minor": 2
}
