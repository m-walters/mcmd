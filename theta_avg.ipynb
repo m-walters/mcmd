{
 "cells": [
  {
   "cell_type": "code",
   "execution_count": 1,
   "metadata": {},
   "outputs": [],
   "source": [
    "#%source bin/activate\n",
    "import os\n",
    "import matplotlib.pyplot as plt\n",
    "import numpy as np\n",
    "%matplotlib inline\n",
    "\n",
    "cos, sin = np.cos, np.sin\n",
    "twopi = np.pi*2.0"
   ]
  },
  {
   "cell_type": "code",
   "execution_count": 2,
   "metadata": {},
   "outputs": [],
   "source": [
    "rundir = \"/home/walterms/project/walterms/mcmd/nn/tffnn/data/mixed/\"\n",
    "trndir = rundir+\"train/\"\n",
    "testdir = rundir+\"test/\"\n",
    "\n",
    "trnlist = [trndir+\"djam\", trndir+\"tjam\", trndir+\"xjam\", trndir+\"ljam\", trndir+\"ujam\"]\n",
    "testlist = [testdir+\"djam\", testdir+\"tjam\", testdir+\"xjam\", testdir+\"ljam\", testdir+\"ujam\"]\n",
    "\n",
    "fulllist = trnlist+testlist\n",
    "\n",
    "file_append = \"_th\""
   ]
  },
  {
   "cell_type": "code",
   "execution_count": 3,
   "metadata": {},
   "outputs": [
    {
     "name": "stdout",
     "output_type": "stream",
     "text": [
      "Processing /home/walterms/project/walterms/mcmd/nn/tffnn/data/mixed/train/djam as training data\n",
      "Processing /home/walterms/project/walterms/mcmd/nn/tffnn/data/mixed/train/tjam as training data\n",
      "Processing /home/walterms/project/walterms/mcmd/nn/tffnn/data/mixed/train/xjam as training data\n",
      "Processing /home/walterms/project/walterms/mcmd/nn/tffnn/data/mixed/train/ljam as training data\n",
      "Processing /home/walterms/project/walterms/mcmd/nn/tffnn/data/mixed/train/ujam as training data\n",
      "Processing /home/walterms/project/walterms/mcmd/nn/tffnn/data/mixed/test/djam as training data\n",
      "Processing /home/walterms/project/walterms/mcmd/nn/tffnn/data/mixed/test/tjam as training data\n",
      "Processing /home/walterms/project/walterms/mcmd/nn/tffnn/data/mixed/test/xjam as training data\n",
      "Processing /home/walterms/project/walterms/mcmd/nn/tffnn/data/mixed/test/ljam as training data\n",
      "Processing /home/walterms/project/walterms/mcmd/nn/tffnn/data/mixed/test/ujam as training data\n",
      "Done compiling training set\n"
     ]
    }
   ],
   "source": [
    "# Compile training set\n",
    "gridx, gridy = 10,10 # num cells\n",
    "\n",
    "# Edgelength is always 1.\n",
    "width,height = 1.,1.\n",
    "\n",
    "flist = fulllist\n",
    "for fname in flist:\n",
    "#     fname = flist[f]\n",
    "    print \"Processing \" + fname + \" as training data\"\n",
    "    fin = open(fname, 'r')\n",
    "    fout = open(fname+file_append, 'w')\n",
    "    thgrid = np.zeros(shape=(gridx,gridy))\n",
    "    thgrid_refs = np.zeros(shape=(gridx,gridy))\n",
    "    counts = np.zeros(shape=(gridx,gridy))\n",
    "    dx,dy = width/float(gridx), height/float(gridy)\n",
    "    nbl = 0\n",
    "    xs,ys,thetas = [],[],[]\n",
    "    specials = []\n",
    "    for line in fin.readlines():\n",
    "        if line == \"\\n\": continue\n",
    "        if line.startswith(\"label\"):\n",
    "            # Done a block\n",
    "            for x,y,th in zip(xs,ys,thetas):\n",
    "                xi = int(x/dx)\n",
    "                yi = int(y/dy)\n",
    "                i = gridx*xi + yi\n",
    "                # th is initially in range [0,1.] corresponding to [0,2pi]\n",
    "                # arctan2 outputs in range [-pi,pi]\n",
    "                # difference between arctan and arctan2 is that\n",
    "                # arctan only \"folds back\" the range [-pi/2,pi/2]\n",
    "                if th > 0.5: th = -1. + th # th: [-0.5,0.5]\n",
    "                if thgrid_refs[xi,yi] == 0.:\n",
    "                    # get it a 'safe' distance from modpoint for\n",
    "                    # angle comparisons later\n",
    "                    if th > 0.25: th -= 0.5\n",
    "                    if th < -0.25: th += 0.5\n",
    "                    if i in specials:\n",
    "                        print \"adding \", str(th)\n",
    "                        \n",
    "                    thgrid_refs[xi,yi] = th\n",
    "                else:\n",
    "                    thref = thgrid_refs[xi,yi]\n",
    "                    if (th > thref) and ((th - thref) > 0.25): th -= 0.5\n",
    "                    if (th < thref) and ((thref - th) > 0.25): th += 0.5\n",
    "\n",
    "                # return theta to [0,1] range\n",
    "                # That way empty cells will be 0. and\n",
    "                # look dead to the NN\n",
    "                th += 0.5\n",
    "                \n",
    "                thgrid[xi,yi] += th\n",
    "                counts[xi,yi] += 1\n",
    "                if i in specials:\n",
    "                    print nbl,i,th,thgrid[xi,yi]/counts[xi,yi]\n",
    "                \n",
    "            np.divide(thgrid,counts,out=thgrid,where=(counts>0.))\n",
    "            # Write block\n",
    "            dline = []\n",
    "            for i in range(gridx):\n",
    "                for j in range(gridy):\n",
    "                    dline.append(thgrid[i,j])\n",
    "            strdline = \"\"\n",
    "            for d in dline:\n",
    "                strdline += str(d)+\" \"\n",
    "            strdline = strdline[:-1]\n",
    "            fout.write(strdline+\"\\n\")\n",
    "\n",
    "            # After writing the theta grid block, append the label\n",
    "            fout.write(line+\"\\n\")\n",
    "            # Reset arrays\n",
    "            thgrid = np.zeros(shape=(gridx,gridy))\n",
    "            thgrid_refs = np.zeros(shape=(gridx,gridy))\n",
    "            counts = np.zeros(shape=(gridx,gridy))\n",
    "            xs = []\n",
    "            ys = []\n",
    "            thetas = []\n",
    "            nbl+=1\n",
    "            continue\n",
    "        spt = [float(x) for x in line.split()]\n",
    "        xs.append(spt[0])\n",
    "        ys.append(spt[1])\n",
    "        thetas.append(spt[2])\n",
    "\n",
    "    fin.close()\n",
    "    fout.close()\n",
    "print \"Done compiling training set\""
   ]
  },
  {
   "cell_type": "code",
   "execution_count": 3,
   "metadata": {},
   "outputs": [],
   "source": [
    "def plotLine(x1,y1,x2,y2):\n",
    "    plt.gca().plot([x1, x2], [y1, y2], color='b', linestyle='-', linewidth=0.2)"
   ]
  },
  {
   "cell_type": "code",
   "execution_count": 8,
   "metadata": {},
   "outputs": [
    {
     "data": {
      "image/png": "[encoded data removed]",
      "text/plain": [
       "<matplotlib.figure.Figure at 0x2af8eb6dbf10>"
      ]
     },
     "metadata": {},
     "output_type": "display_data"
    }
   ],
   "source": [
    "iSnap = 1\n",
    "dx,dy = 1./gridx, 1./gridy\n",
    "\n",
    "f = plt.figure()\n",
    "# a = plt.Axes(f, [0., 0., 1., 1.])\n",
    "# a.set_axis_off()\n",
    "# f.add_axes(a)\n",
    "# plt.xlim(-w/2,w/2)\n",
    "# plt.ylim(-h/2,h/2)\n",
    "# plt.xticks([])\n",
    "# plt.yticks([])\n",
    "\n",
    "\n",
    "dfile = open(trnlist[1]+file_append, \"r\")\n",
    "iSnap = 1\n",
    "cntSnap = 0\n",
    "for line in dfile.readlines():\n",
    "    if cntSnap > iSnap: break\n",
    "    if cntSnap == iSnap:\n",
    "        l = [float(x) for x in line.split()]\n",
    "        for ix in range(gridx):\n",
    "            for iy in range(gridy):\n",
    "                i = int(gridx*ix + iy)\n",
    "                th = l[i]\n",
    "                x,y = dx*ix+dx/2., dy*iy+dy/2.\n",
    "                # Note th=0 is along the y-axis\n",
    "                x1 = x - (dx/2.)*sin(th*twopi) \n",
    "                y1 = y + (dy/2.)*cos(th*twopi)\n",
    "                x2 = x + (dx/2.)*sin(th*twopi)\n",
    "                y2 = y - (dy/2.)*cos(th*twopi)\n",
    "        \n",
    "                plotLine(x1,y1,x2,y2)\n",
    "        cntSnap += 1\n",
    "    else: \n",
    "        if line == \"\\n\": cntSnap+=1\n",
    "dfile.close()\n",
    "plt.gcf().set_size_inches(6,6)"
   ]
  }
 ],
 "metadata": {
  "kernelspec": {
   "display_name": "Python 2",
   "language": "python",
   "name": "python2"
  },
  "language_info": {
   "codemirror_mode": {
    "name": "ipython",
    "version": 2
   },
   "file_extension": ".py",
   "mimetype": "text/x-python",
   "name": "python",
   "nbconvert_exporter": "python",
   "pygments_lexer": "ipython2",
   "version": "2.7.13"
  }
 },
 "nbformat": 4,
 "nbformat_minor": 2
}
