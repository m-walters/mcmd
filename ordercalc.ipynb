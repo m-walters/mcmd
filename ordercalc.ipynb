{
 "cells": [
  {
   "cell_type": "code",
   "execution_count": null,
   "metadata": {
    "collapsed": true
   },
   "outputs": [],
   "source": [
    "path = \"/home/michael/msc/mcmd/output/edgevar/\"\n",
    "fnames = [\"edge10_\", \"edge15\", \"edge20\", \"edge25_\", \"edge30\", \"edge35\", \"edge40\"]\n",
    "all_dir = sorted(os.listdir(\"../../output/tmp/\"))\n",
    "for f in all_dir:\n",
    "    fin = open(\"../../output/tmp/\"+f, 'r')\n",
    "    thetas = []\n",
    "    for line in fin.readlines():\n",
    "        spt = line.split()\n",
    "        spt = [float(x) for x in spt]\n",
    "        thetas.append([spt[i] for i in [0,1,4,9,10,11,12,13,14,15,16]])\n",
    "\n",
    "    nbrthetas = []\n",
    "    for t in thetas:\n",
    "        select = []\n",
    "        for tt in thetas:\n",
    "            if tt[0] == t[0]: continue\n",
    "            if tt[1] == t[1]:\n",
    "                select.append(tt[2])\n",
    "            for ni in t[3:]:\n",
    "                if ni == -1.: continue\n",
    "                if tt[1] == ni:\n",
    "                    select.append(tt[2])\n",
    "        nbrthetas.append([t[2], select])\n",
    "\n",
    "    S = 0.\n",
    "    N = 0\n",
    "    for r in nbrthetas:\n",
    "        for t in r[1]:\n",
    "            S += np.cos(2.*(r[0] - t))\n",
    "            N += 1\n",
    "    fin.close()\n",
    "    print f, S/N"
   ]
  }
 ],
 "metadata": {
  "kernelspec": {
   "display_name": "Python 2",
   "language": "python",
   "name": "python2"
  },
  "language_info": {
   "codemirror_mode": {
    "name": "ipython",
    "version": 2
   },
   "file_extension": ".py",
   "mimetype": "text/x-python",
   "name": "python",
   "nbconvert_exporter": "python",
   "pygments_lexer": "ipython2",
   "version": "2.7.13"
  }
 },
 "nbformat": 4,
 "nbformat_minor": 2
}
