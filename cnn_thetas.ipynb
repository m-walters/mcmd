{
 "cells": [
  {
   "cell_type": "code",
   "execution_count": 3,
   "metadata": {},
   "outputs": [],
   "source": [
    "#%source bin/activate\n",
    "import tensorflow as tf\n",
    "import os\n",
    "import random\n",
    "import time\n",
    "import matplotlib.pyplot as plt\n",
    "import numpy as np\n",
    "%matplotlib inline"
   ]
  },
  {
   "cell_type": "code",
   "execution_count": 4,
   "metadata": {},
   "outputs": [],
   "source": [
    "rundir = \"/home/walterms/project/walterms/mcmd/nn/tffnn/data/mixed/\"\n",
    "trndir = rundir+\"train/\"\n",
    "testdir = rundir+\"test/\"\n",
    "NLBL = 6\n",
    "\n",
    "trnlist = [\"ujam_th\", \"ljam_th\", \"djam_th\", \"tjam_th\", \"xjam_th\"]\n",
    "# trnlist = [\"edge15.00\", \"edge30.00\"]\n",
    "testlist = [\"ujam_th\", \"ljam_th\", \"djam_th\", \"tjam_th\", \"xjam_th\"]\n",
    "# testlist = [\"edge15.00\", \"edge30.00\"]\n",
    "\n",
    "trnlist = [trndir+x for x in trnlist]\n",
    "testlist = [testdir+x for x in testlist]"
   ]
  },
  {
   "cell_type": "code",
   "execution_count": 5,
   "metadata": {},
   "outputs": [
    {
     "name": "stdout",
     "output_type": "stream",
     "text": [
      "Processing /home/walterms/project/walterms/mcmd/nn/tffnn/data/mixed/train/ujam_th as training data\n",
      "Processing /home/walterms/project/walterms/mcmd/nn/tffnn/data/mixed/train/ljam_th as training data\n",
      "Processing /home/walterms/project/walterms/mcmd/nn/tffnn/data/mixed/train/djam_th as training data\n",
      "Processing /home/walterms/project/walterms/mcmd/nn/tffnn/data/mixed/train/tjam_th as training data\n",
      "Processing /home/walterms/project/walterms/mcmd/nn/tffnn/data/mixed/train/xjam_th as training data\n",
      "Done compiling training set\n"
     ]
    }
   ],
   "source": [
    "# Compile training set\n",
    "trn_data = []\n",
    "trn_inputs = []\n",
    "trn_labels = []\n",
    "\n",
    "nblPerFile = 4000\n",
    "            \n",
    "for f in trnlist:\n",
    "    print \"Processing \" + f + \" as training data\"\n",
    "    thetas = []\n",
    "    fin = open(f, 'r')\n",
    "    ntheta = len(fin.readline().split())\n",
    "    gridx = int(np.sqrt(ntheta))\n",
    "    gridy = gridx\n",
    "    fin.seek(0)\n",
    "    nbl = 0\n",
    "    for line in fin.readlines():\n",
    "        if line == \"\\n\": continue\n",
    "        if line.startswith(\"label\"):\n",
    "            # Done a block\n",
    "            lbl = int(float(line.split()[1]))\n",
    "            trn_labels.append(lbl)\n",
    "            nbl+=1\n",
    "            if nbl == nblPerFile: \n",
    "                break\n",
    "            continue\n",
    "        else:\n",
    "            thetas = [[float(x)] for x in line.split()]\n",
    "            trn_inputs.append(np.asarray(thetas))\n",
    "            thetas = []\n",
    "\n",
    "    fin.close()\n",
    "        \n",
    "for i in range(len(trn_inputs)):\n",
    "    trn_data.append([trn_inputs[i], trn_labels[i]])\n",
    "    \n",
    "random.shuffle(trn_data)\n",
    "\n",
    "print \"Done compiling training set\""
   ]
  },
  {
   "cell_type": "code",
   "execution_count": 6,
   "metadata": {},
   "outputs": [
    {
     "name": "stdout",
     "output_type": "stream",
     "text": [
      "Processing /home/walterms/project/walterms/mcmd/nn/tffnn/data/mixed/test/ujam_th as testing data\n",
      "Processing /home/walterms/project/walterms/mcmd/nn/tffnn/data/mixed/test/ljam_th as testing data\n",
      "Processing /home/walterms/project/walterms/mcmd/nn/tffnn/data/mixed/test/djam_th as testing data\n",
      "Processing /home/walterms/project/walterms/mcmd/nn/tffnn/data/mixed/test/tjam_th as testing data\n",
      "Processing /home/walterms/project/walterms/mcmd/nn/tffnn/data/mixed/test/xjam_th as testing data\n",
      "Done compiling test set\n"
     ]
    }
   ],
   "source": [
    "# Compile test set\n",
    "test_data = []\n",
    "test_inputs = []\n",
    "test_labels = []\n",
    "\n",
    "nblPerFile = 400\n",
    "for f in testlist:\n",
    "    print \"Processing \" + f + \" as testing data\"\n",
    "    thetas = []\n",
    "    fin = open(f, 'r')\n",
    "    ntheta = len(fin.readline().split())\n",
    "    gridx = int(np.sqrt(ntheta))\n",
    "    gridy = gridx\n",
    "    fin.seek(0)\n",
    "    nbl = 0\n",
    "    for line in fin.readlines():\n",
    "        if line == \"\\n\": continue\n",
    "        if line.startswith(\"label\"):\n",
    "            # Done a block\n",
    "            lbl = int(float(line.split()[1]))\n",
    "            test_labels.append(lbl)\n",
    "            nbl+=1\n",
    "            if nbl == nblPerFile: break\n",
    "            continue\n",
    "        else:\n",
    "            thetas = [[float(x)] for x in line.split()]\n",
    "            test_inputs.append(np.asarray(thetas))\n",
    "            thetas = []\n",
    "\n",
    "    fin.close()\n",
    "        \n",
    "for i in range(len(test_inputs)):\n",
    "    test_data.append([test_inputs[i], test_labels[i]])\n",
    "    \n",
    "random.shuffle(test_data)\n",
    "\n",
    "print \"Done compiling test set\""
   ]
  },
  {
   "cell_type": "code",
   "execution_count": 7,
   "metadata": {},
   "outputs": [
    {
     "name": "stdout",
     "output_type": "stream",
     "text": [
      "20000 2000\n"
     ]
    }
   ],
   "source": [
    "print len(trn_data), len(test_data)"
   ]
  },
  {
   "cell_type": "code",
   "execution_count": 8,
   "metadata": {},
   "outputs": [],
   "source": [
    "class runrecord:\n",
    "    def __init__(self,\n",
    "                trnlist,\n",
    "                testlist,\n",
    "                sizedict,\n",
    "                batchsize,\n",
    "                eta,\n",
    "                keepprob,                \n",
    "                nEpoch):\n",
    "        self.params = {\n",
    "            \"trnlist\":trnlist,\n",
    "            \"testlist\":testlist,\n",
    "            \"batchsize\":batchsize,\n",
    "            \"eta\":eta,\n",
    "            \"keepprob\":keepprob,\n",
    "            \"nEpoch\":nEpoch\n",
    "        }\n",
    "        \n",
    "        self.sizedict=sizedict\n",
    "        self.testacc = np.zeros(shape=(nEpoch,))        \n",
    "        self.trnacc = np.zeros(shape=(nEpoch,))        \n",
    "        self.testlosses = np.zeros(shape=(nEpoch,))        \n",
    "        self.trnlosses = np.zeros(shape=(nEpoch,))"
   ]
  },
  {
   "cell_type": "code",
   "execution_count": 9,
   "metadata": {},
   "outputs": [],
   "source": [
    "records = []"
   ]
  },
  {
   "cell_type": "code",
   "execution_count": 12,
   "metadata": {
    "scrolled": false
   },
   "outputs": [],
   "source": [
    "batchsize = 200\n",
    "nInput = ntheta\n",
    "inChan = 1\n",
    "imgheight,imgwidth = gridy,gridx\n",
    "\n",
    "# Divide by stride*stride for each conv layer\n",
    "filtwidth = [5,3]\n",
    "stride = 1\n",
    "conv1_nOut = 3 # 32\n",
    "conv2_nOut = 3\n",
    "fc1_nIn = imgheight*imgwidth*conv2_nOut/(stride*stride*stride*stride)\n",
    "fc1_nOut = 256\n",
    "\n",
    "eta = 1e-3\n",
    "\n",
    "sizedict = {\"nInput\":nInput,\n",
    "            \"inChan\":inChan,\n",
    "            \"imgheight\":imgheight,\n",
    "            \"imgwidth\":imgwidth,\n",
    "            \"filtwidth\":filtwidth,\n",
    "            \"stride\":stride,\n",
    "            \"conv1_nOut\":conv1_nOut,\n",
    "            \"fc1_nIn\":fc1_nIn,\n",
    "            \"fc1_nOut\":fc1_nOut\n",
    "           }\n",
    "\n",
    "def weight_variable(shape):\n",
    "    initial = tf.truncated_normal(shape, stddev=0.1)\n",
    "    return tf.Variable(initial)\n",
    "\n",
    "def bias_variable(shape):\n",
    "    initial = tf.truncated_normal(shape, stddev=0.1)\n",
    "    return tf.Variable(initial)\n",
    "\n",
    "def conv2d(x, W):\n",
    "    s = stride\n",
    "    return tf.nn.conv2d(x, W, strides=[1,s,s,1], padding='SAME')\n",
    "\n",
    "\n",
    "x = tf.placeholder(tf.float32, shape=[None, nInput, inChan])\n",
    "y_ = tf.placeholder(tf.int64, shape=[None])\n",
    "\n",
    "x_image = tf.reshape(x, [-1, imgheight, imgwidth, inChan])\n",
    "keep_prob = tf.placeholder(tf.float32)\n",
    "\n",
    "W_conv1 = weight_variable([filtwidth[0], filtwidth[0], inChan, conv1_nOut]) # [x,y,nInputChannel,nOutChannel]\n",
    "b_conv1 = bias_variable([conv1_nOut])\n",
    "h_conv1 = tf.nn.relu(conv2d(x_image, W_conv1) + b_conv1)\n",
    "\n",
    "W_conv2 = weight_variable([filtwidth[1], filtwidth[1], conv1_nOut, conv2_nOut])\n",
    "b_conv2 = bias_variable([conv2_nOut])\n",
    "h_conv2 = tf.nn.relu(conv2d(h_conv1, W_conv2) + b_conv2)\n",
    "\n",
    "W_fc1 = weight_variable([fc1_nIn, fc1_nOut])\n",
    "b_fc1 = bias_variable([fc1_nOut])\n",
    "h_conv_flat = tf.reshape(h_conv2, [-1, fc1_nIn])\n",
    "h_fc1 = tf.nn.dropout(tf.nn.relu(tf.matmul(h_conv_flat, W_fc1) + b_fc1), keep_prob)\n",
    "\n",
    "W_fc2 = weight_variable([fc1_nOut, NLBL])\n",
    "b_fc2 = bias_variable([NLBL])\n",
    "\n",
    "zout = tf.matmul(h_fc1,W_fc2)+b_fc2\n",
    "y_out = tf.nn.softmax(zout)\n",
    "\n",
    "cost = tf.reduce_mean(tf.nn.sparse_softmax_cross_entropy_with_logits(labels=y_, logits=zout))\n",
    "\n",
    "train_step = tf.train.AdamOptimizer(eta).minimize(cost)\n",
    "correct_prediction = tf.equal(tf.argmax(y_out, 1), y_)\n",
    "accuracy = tf.reduce_mean(tf.cast(correct_prediction, tf.float32))"
   ]
  },
  {
   "cell_type": "code",
   "execution_count": 14,
   "metadata": {},
   "outputs": [],
   "source": [
    "# Remove most recent run from records\n",
    "tmp = list(records)\n",
    "records = []\n",
    "for r in tmp[0:-1]:\n",
    "    records.append(r)"
   ]
  },
  {
   "cell_type": "code",
   "execution_count": 13,
   "metadata": {
    "scrolled": false
   },
   "outputs": [
    {
     "name": "stdout",
     "output_type": "stream",
     "text": [
      "epoch 0, trnacc 0.795, test accuracy 0.807808, trncost 0.551736, testcost 0.585155\n",
      "epoch 5, trnacc 0.93, test accuracy 0.894895, trncost 0.21681, testcost 0.264827\n",
      "epoch 10, trnacc 0.96, test accuracy 0.932432, trncost 0.132446, testcost 0.1852\n",
      "epoch 15, trnacc 0.96, test accuracy 0.947447, trncost 0.12788, testcost 0.155236\n",
      "epoch 20, trnacc 0.975, test accuracy 0.935435, trncost 0.0577799, testcost 0.157729\n",
      "epoch 25, trnacc 0.985, test accuracy 0.953453, trncost 0.064756, testcost 0.175093\n",
      "epoch 30, trnacc 0.98, test accuracy 0.953453, trncost 0.0457449, testcost 0.16261\n",
      "epoch 35, trnacc 0.985, test accuracy 0.933934, trncost 0.0411699, testcost 0.230708\n",
      "epoch 40, trnacc 0.99, test accuracy 0.927928, trncost 0.0365993, testcost 0.270514\n",
      "epoch 45, trnacc 0.995, test accuracy 0.960961, trncost 0.0262784, testcost 0.125656\n",
      "epoch 50, trnacc 0.99, test accuracy 0.956456, trncost 0.0209319, testcost 0.18755\n",
      "epoch 55, trnacc 0.99, test accuracy 0.942943, trncost 0.0203745, testcost 0.225433\n",
      "Done\n"
     ]
    }
   ],
   "source": [
    "nEpoch = 60\n",
    "py_keepprob = .8\n",
    "\n",
    "thisrecord = runrecord(trnlist,testlist,sizedict,batchsize,eta,py_keepprob,nEpoch)\n",
    "records.append(thisrecord)\n",
    "\n",
    "random.shuffle(trn_data)\n",
    "random.shuffle(test_data)\n",
    "\n",
    "# sess = tf.Session()\n",
    "# sess.run(tf.global_variables_initializer())\n",
    "# with sess.as_default():\n",
    "#     assert tf.get_default_session() is sess\n",
    "with tf.Session() as sess:\n",
    "    sess.run(tf.global_variables_initializer())\n",
    "    for e in range(nEpoch):\n",
    "        # Shuffle data\n",
    "        random.shuffle(trn_data)\n",
    "\n",
    "        for b in range(len(trn_data)/batchsize):\n",
    "            ib = b*batchsize\n",
    "            # Pepare a batch\n",
    "            xin = np.asarray([trn_data[ib+iib][0] for iib in xrange(batchsize)])\n",
    "            yin = np.asarray([trn_data[ib+iib][1] for iib in xrange(batchsize)])\n",
    "            train_step.run(feed_dict={x:xin, y_:yin, keep_prob:py_keepprob})\n",
    "\n",
    "        if e % 5 == 0:\n",
    "            # Cost from trn data\n",
    "            trnacc, trncost = sess.run([accuracy,cost],feed_dict={x:xin, y_:yin, keep_prob:1.0})\n",
    "            # Eval on test set\n",
    "            random.shuffle(test_data)\n",
    "            ntest = int(len(test_data)/3)\n",
    "            xtest = np.asarray([test_data[i][0] for i in xrange(ntest)])\n",
    "            ytest = np.asarray([test_data[i][1] for i in xrange(ntest)])\n",
    "            # Eval on test set\n",
    "            test_accuracy, youts, testcost = sess.run([accuracy,y_out,cost],feed_dict={\n",
    "                x: xtest, y_: ytest, keep_prob: 1.0})\n",
    "            print('epoch %d, trnacc %g, test accuracy %g, trncost %g, testcost %g' \n",
    "                  % (e,trnacc,test_accuracy,trncost,testcost))\n",
    "            thisrecord.testlosses[e] = testcost\n",
    "            thisrecord.trnlosses[e] = trncost\n",
    "            thisrecord.testacc[e] = test_accuracy\n",
    "            thisrecord.trnacc[e] = trnacc\n",
    "            \n",
    "            \n",
    "# sess.close()\n",
    "print \"Done\""
   ]
  },
  {
   "cell_type": "code",
   "execution_count": 14,
   "metadata": {},
   "outputs": [
    {
     "data": {
      "image/png": "[encoded data removed]",
      "text/plain": [
       "<matplotlib.figure.Figure at 0x2ab5c3374c90>"
      ]
     },
     "metadata": {},
     "output_type": "display_data"
    }
   ],
   "source": [
    "# Loss plot\n",
    "# Mask on zeros\n",
    "f, ax = plt.subplots(1,2)\n",
    "for r in records[-1:]:\n",
    "    x = np.argwhere(r.testlosses>0)\n",
    "    ax0, = ax[0].plot(x,r.trnlosses[x],'b-',label='train loss')\n",
    "    axtwin = ax[0].twinx()\n",
    "    ax0t, = axtwin.plot(x,r.testlosses[x],'g:',label='test loss')\n",
    "    l1 = plt.legend([ax0,ax0t],[\"train loss\", \"test loss\"])\n",
    "    ax[1].plot(x,r.trnacc[x],'b-',label=\"train\")\n",
    "    ax[1].plot(x,r.testacc[x],'g:',label=\"test\")\n",
    "    ax[1].legend()\n",
    "    ax[0].set_yscale(\"log\", nonposy='mask')\n",
    "    axtwin.set_yscale(\"log\", nonposy='mask')\n",
    "    \n",
    "plt.gcf().set_size_inches(14,5)"
   ]
  }
 ],
 "metadata": {
  "kernelspec": {
   "display_name": "Python 2",
   "language": "python",
   "name": "python2"
  },
  "language_info": {
   "codemirror_mode": {
    "name": "ipython",
    "version": 2
   },
   "file_extension": ".py",
   "mimetype": "text/x-python",
   "name": "python",
   "nbconvert_exporter": "python",
   "pygments_lexer": "ipython2",
   "version": "2.7.13"
  }
 },
 "nbformat": 4,
 "nbformat_minor": 2
}
