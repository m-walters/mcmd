{
 "cells": [
  {
   "cell_type": "code",
   "execution_count": 1,
   "metadata": {
    "collapsed": true
   },
   "outputs": [],
   "source": [
    "import numpy as np\n",
    "import os\n",
    "import random\n",
    "import matplotlib.pyplot as plt\n",
    "%matplotlib inline\n",
    "\n",
    "import FullyConnectedNN as fnn"
   ]
  },
  {
   "cell_type": "code",
   "execution_count": 2,
   "metadata": {
    "collapsed": true
   },
   "outputs": [],
   "source": [
    "#\n",
    "# Analysis parameters\n",
    "#\n",
    "trnDir = \"data/edgevar/train/\"\n",
    "testDir = \"data/edgevar/test/\"\n",
    "unlabeledDir = \"data/edgevar/unlabeled/\"\n",
    "bThetas = True\n",
    "\n",
    "trnfnames = [\"edge10_\", \"edge40\", \"edge15\"]\n",
    "testfnames = [\"edge10_\", \"edge40\", \"edge15\"]\n",
    "unlabeledfnames = [\"edge10_\", \"edge15\", \"edge20\", \"edge25_\", \"edge30\", \"edge35\", \"edge40\"]"
   ]
  },
  {
   "cell_type": "code",
   "execution_count": 5,
   "metadata": {},
   "outputs": [
    {
     "name": "stdout",
     "output_type": "stream",
     "text": [
      "Processing edge10_ as training data\n",
      "Processing edge40 as training data\n",
      "Processing edge15 as training data\n",
      "Done compiling training set\n"
     ]
    }
   ],
   "source": [
    "nTrn = 0\n",
    "nTrn_lbl = 0\n",
    "maxTrn = 20000\n",
    "# Compile training set\n",
    "trn_data = []\n",
    "trn_inputs = []\n",
    "trn_labels = []\n",
    "\n",
    "#for aFile in os.listdir(trnInpDir):\n",
    "            \n",
    "for f in trnfnames:\n",
    "    print \"Processing \" + f + \" as training data\"\n",
    "    thetas = []\n",
    "    xs = []\n",
    "    ys = []\n",
    "    fin = open(trnDir+f, 'r')\n",
    "    for line in fin.readlines():\n",
    "        if line == \"\\n\": continue\n",
    "        if line.startswith(\"label\"):\n",
    "            # Done a block\n",
    "            label = [[0.], [0.]]\n",
    "            idx = int(float(line.split()[1]))\n",
    "            label[idx] = [1.]\n",
    "            trn_labels.append(label)\n",
    "            if bThetas:\n",
    "                trn_inputs.append(thetas)\n",
    "            else:\n",
    "                trn_inputs.append(thetas + xs + ys)\n",
    "            thetas = []\n",
    "            xs = []\n",
    "            ys = []\n",
    "            nTrn+=1\n",
    "            if nTrn == maxTrn: break\n",
    "            continue\n",
    "        spt = [float(x) for x in line.split()]\n",
    "        xs.append([spt[0]])\n",
    "        ys.append([spt[1]])\n",
    "        thetas.append([spt[2]])\n",
    "\n",
    "    fin.close()\n",
    "#         label = [[float(x)] for x in line.split()]\n",
    "#         trn_labels.append(label)\n",
    "#         nTrn_lbl+=1\n",
    "#         if nTrn_lbl == maxTrn: break\n",
    "\n",
    "    if nTrn == maxTrn: break\n",
    "        \n",
    "for i in range(len(trn_inputs)):\n",
    "    trn_data.append((np.asarray(trn_inputs[i]), np.asarray(trn_labels[i])))\n",
    "    \n",
    "random.shuffle(trn_data)\n",
    "\n",
    "print \"Done compiling training set\""
   ]
  },
  {
   "cell_type": "code",
   "execution_count": 6,
   "metadata": {},
   "outputs": [
    {
     "data": {
      "text/plain": [
       "20000"
      ]
     },
     "execution_count": 6,
     "metadata": {},
     "output_type": "execute_result"
    }
   ],
   "source": [
    "len(trn_data)"
   ]
  },
  {
   "cell_type": "code",
   "execution_count": 7,
   "metadata": {},
   "outputs": [
    {
     "name": "stdout",
     "output_type": "stream",
     "text": [
      "Adding edge10_ to test set\n",
      "Adding edge40 to test set\n",
      "Adding edge15 to test set\n",
      "Done\n"
     ]
    }
   ],
   "source": [
    "test_data = []\n",
    "test_inputs = []\n",
    "test_labels = []\n",
    "\n",
    "for f in testfnames:\n",
    "    print \"Adding \" + f + \" to test set\"\n",
    "    thetas = []\n",
    "    xs = []\n",
    "    ys = []\n",
    "    fin = open(testDir+f, 'r')\n",
    "    for line in fin.readlines():\n",
    "        if line == \"\\n\": continue\n",
    "        if line.startswith(\"label\"):\n",
    "            # Done a block\n",
    "            test_labels.append(float(line.split()[1]))\n",
    "            if bThetas:\n",
    "                test_inputs.append(thetas)\n",
    "            else:\n",
    "                test_inputs.append(thetas + xs + ys)\n",
    "            thetas = []\n",
    "            xs = []\n",
    "            ys = []\n",
    "            continue\n",
    "        spt = [float(x) for x in line.split()]\n",
    "        xs.append([spt[0]])\n",
    "        ys.append([spt[1]])\n",
    "        thetas.append([spt[2]])\n",
    "\n",
    "    fin.close()\n",
    "for i in range(len(test_inputs)):\n",
    "    test_data.append((np.asarray(test_inputs[i]), np.asarray(test_labels[i])))\n",
    "\n",
    "print \"Done\""
   ]
  },
  {
   "cell_type": "code",
   "execution_count": 8,
   "metadata": {},
   "outputs": [
    {
     "data": {
      "text/plain": [
       "600"
      ]
     },
     "execution_count": 8,
     "metadata": {},
     "output_type": "execute_result"
    }
   ],
   "source": [
    "len(test_data)"
   ]
  },
  {
   "cell_type": "code",
   "execution_count": null,
   "metadata": {},
   "outputs": [],
   "source": [
    "print len(trn_data), len(test_data)"
   ]
  },
  {
   "cell_type": "code",
   "execution_count": null,
   "metadata": {
    "collapsed": true
   },
   "outputs": [],
   "source": [
    "nn = None"
   ]
  },
  {
   "cell_type": "code",
   "execution_count": 36,
   "metadata": {},
   "outputs": [
    {
     "name": "stdout",
     "output_type": "stream",
     "text": [
      "Epoch 0 Accuracy:  0.781666666667\n",
      "Epoch 1 Accuracy:  0.838333333333\n",
      "Epoch 2 Accuracy:  0.851666666667\n",
      "Epoch 3 Accuracy:  0.873333333333\n",
      "Epoch 4 Accuracy:  0.883333333333\n",
      "Epoch 5 Accuracy:  0.881666666667\n",
      "Epoch 6 Accuracy:  0.895\n",
      "Epoch 7 Accuracy:  0.891666666667\n",
      "Epoch 8 Accuracy:  0.898333333333\n",
      "Epoch 9 Accuracy:  0.91\n"
     ]
    }
   ],
   "source": [
    "if bThetas:\n",
    "    nn = fnn.FullyConnectedNN([400, 20, 2])\n",
    "else:\n",
    "    nn = fnn.FullyConnectedNN([1200, 10, 10, 6])\n",
    "# nn = FullyConnectedNN([784, 100, 10])\n",
    "\n",
    "#nn.train(training data, nEpoch, minibatch, eta, testdata=None)\n",
    "train_params = [20, 100, 1.]\n",
    "nn.train(trn_data, train_params[0], train_params[1], train_params[2], test_data)"
   ]
  },
  {
   "cell_type": "code",
   "execution_count": 27,
   "metadata": {
    "collapsed": true
   },
   "outputs": [],
   "source": [
    "nnSave = nn"
   ]
  },
  {
   "cell_type": "code",
   "execution_count": 24,
   "metadata": {},
   "outputs": [
    {
     "data": {
      "text/plain": [
       "(array([ 10229.,      0.,      0.,      0.,      0.,      0.,      0.,\n",
       "             0.,      0.,   9771.]),\n",
       " array([ 0. ,  0.1,  0.2,  0.3,  0.4,  0.5,  0.6,  0.7,  0.8,  0.9,  1. ]),\n",
       " <a list of 10 Patch objects>)"
      ]
     },
     "execution_count": 24,
     "metadata": {},
     "output_type": "execute_result"
    },
    {
     "data": {
      "image/png": "[encoded data removed]",
      "text/plain": [
       "<matplotlib.figure.Figure at 0x7f2668906b10>"
      ]
     },
     "metadata": {},
     "output_type": "display_data"
    }
   ],
   "source": [
    "trnlabels = []\n",
    "for i in range(0,len(trn_data)):\n",
    "    trnlabels.append(np.argmax(trn_data[i][1]))\n",
    "\n",
    "plt.hist(trnlabels)"
   ]
  },
  {
   "cell_type": "code",
   "execution_count": 34,
   "metadata": {},
   "outputs": [
    {
     "data": {
      "text/plain": [
       "(array([ 421.,    0.,    0.,    0.,    0.,    0.,    0.,    0.,    0.,  179.]),\n",
       " array([ 0. ,  0.1,  0.2,  0.3,  0.4,  0.5,  0.6,  0.7,  0.8,  0.9,  1. ]),\n",
       " <a list of 10 Patch objects>)"
      ]
     },
     "execution_count": 34,
     "metadata": {},
     "output_type": "execute_result"
    },
    {
     "data": {
      "image/png": "[encoded data removed]",
      "text/plain": [
       "<matplotlib.figure.Figure at 0x7f268f4bd0d0>"
      ]
     },
     "metadata": {},
     "output_type": "display_data"
    }
   ],
   "source": [
    "outs = []\n",
    "for i in range(0,len(test_data)):\n",
    "    outs.append(np.argmax(nn.feedforward(test_data[i][0])))\n",
    "\n",
    "plt.hist(outs)"
   ]
  },
  {
   "cell_type": "code",
   "execution_count": null,
   "metadata": {},
   "outputs": [],
   "source": [
    "labels = []\n",
    "for i in range(0,len(test_data)):\n",
    "    labels.append(test_data[i][1].item())\n",
    "\n",
    "plt.hist(labels)"
   ]
  },
  {
   "cell_type": "code",
   "execution_count": null,
   "metadata": {
    "collapsed": true
   },
   "outputs": [],
   "source": [
    "# Clear data for RAM\n",
    "trn_data = None\n",
    "test_data = None"
   ]
  },
  {
   "cell_type": "code",
   "execution_count": 12,
   "metadata": {},
   "outputs": [
    {
     "name": "stdout",
     "output_type": "stream",
     "text": [
      "Adding edge10_ unlabeled set\n",
      "Adding edge15 unlabeled set\n",
      "Adding edge20 unlabeled set\n",
      "Adding edge25_ unlabeled set\n",
      "Adding edge30 unlabeled set\n",
      "Adding edge35 unlabeled set\n",
      "Adding edge40 unlabeled set\n",
      "Done\n"
     ]
    }
   ],
   "source": [
    "edgetestdata = []\n",
    "maxSample = 1000\n",
    "n = 0\n",
    "\n",
    "# unlabeledfnames = [\"edge10_\"]\n",
    "unlabeledfnames = [\"edge10_\", \"edge15\", \"edge20\", \"edge25_\", \"edge30\", \"edge35\", \"edge40\"]\n",
    "for f in unlabeledfnames:\n",
    "    inputs = []\n",
    "    filedata = []\n",
    "    print \"Adding \" + f + \" unlabeled set\"\n",
    "    thetas = []\n",
    "    xs = []\n",
    "    ys = []\n",
    "    fin = open(unlabeledDir+f, 'r')\n",
    "    n = 0\n",
    "    for line in fin.readlines():\n",
    "        if n==maxSample:\n",
    "            break\n",
    "        if line == \"\\n\":\n",
    "            # Done a block\n",
    "            n+=1\n",
    "            if bThetas:\n",
    "                inputs.append(thetas)\n",
    "            else:\n",
    "                inputs.append(thetas + xs + ys)\n",
    "            thetas = []\n",
    "            xs = []\n",
    "            ys = []\n",
    "            continue\n",
    "        spt = [float(x) for x in line.split()]\n",
    "        xs.append([spt[0]])\n",
    "        ys.append([spt[1]])\n",
    "        thetas.append([spt[2]])\n",
    "        \n",
    "    fin.close()\n",
    "    for i in range(len(inputs)):\n",
    "#         filedata.append((np.asarray(test_inputs[i]), np.asarray(test_labels[i])))\n",
    "        filedata.append((np.asarray(inputs[i])))\n",
    "    edgetestdata.append(filedata)\n",
    "\n",
    "print \"Done\""
   ]
  },
  {
   "cell_type": "code",
   "execution_count": 73,
   "metadata": {},
   "outputs": [
    {
     "data": {
      "text/plain": [
       "[<matplotlib.lines.Line2D at 0x7f268813b210>]"
      ]
     },
     "execution_count": 73,
     "metadata": {},
     "output_type": "execute_result"
    },
    {
     "data": {
      "image/png": "[encoded data removed]",
      "text/plain": [
       "<matplotlib.figure.Figure at 0x7f26882be410>"
      ]
     },
     "metadata": {},
     "output_type": "display_data"
    }
   ],
   "source": [
    "y = []\n",
    "for i in range(len(edgetestdata[2])):\n",
    "    y.append(np.max(nn.feedforward(edgetestdata[2][i])))\n",
    "plt.plot(y[0:])"
   ]
  },
  {
   "cell_type": "code",
   "execution_count": 60,
   "metadata": {},
   "outputs": [
    {
     "name": "stdout",
     "output_type": "stream",
     "text": [
      "0.12 0.324961536185\n",
      "0.32577699929\n"
     ]
    },
    {
     "data": {
      "text/plain": [
       "(array([ 176.,    0.,    0.,    0.,    0.,    0.,    0.,    0.,    0.,   24.]),\n",
       " array([ 0. ,  0.1,  0.2,  0.3,  0.4,  0.5,  0.6,  0.7,  0.8,  0.9,  1. ]),\n",
       " <a list of 10 Patch objects>)"
      ]
     },
     "execution_count": 60,
     "metadata": {},
     "output_type": "execute_result"
    },
    {
     "data": {
      "image/png": "[encoded data removed]",
      "text/plain": [
       "<matplotlib.figure.Figure at 0x7f268f593890>"
      ]
     },
     "metadata": {},
     "output_type": "display_data"
    }
   ],
   "source": [
    "y=[]\n",
    "for i in range(0,len(edgetestdata[1])):\n",
    "    y.append(np.argmax(nn.feedforward(edgetestdata[1][i])))\n",
    "\n",
    "sigma = np.std(y)\n",
    "mu = np.average(y)\n",
    "print mu,sigma\n",
    "\n",
    "mysig = np.sqrt(np.sum((y-mu)**2)/(len(y)-1))\n",
    "print mysig\n",
    "plt.hist(y)"
   ]
  },
  {
   "cell_type": "code",
   "execution_count": 72,
   "metadata": {},
   "outputs": [
    {
     "data": {
      "text/plain": [
       "[<matplotlib.lines.Line2D at 0x7f26881eadd0>]"
      ]
     },
     "execution_count": 72,
     "metadata": {},
     "output_type": "execute_result"
    },
    {
     "data": {
      "image/png": "[encoded data removed]",
      "text/plain": [
       "<matplotlib.figure.Figure at 0x7f26887c4350>"
      ]
     },
     "metadata": {},
     "output_type": "display_data"
    }
   ],
   "source": [
    "out_stats = [] # mean and std pairs\n",
    "edges = [10,15,20,25,30,35,40]\n",
    "N = 400\n",
    "L = 3.0\n",
    "rho_ = [L*L*N/float(x*x) for x in edges]\n",
    "\n",
    "for j in range(len(rho_)):\n",
    "    outs = []\n",
    "    for i in range(0,len(edgetestdata[j])):\n",
    "        outs.append(np.argmax(nn.feedforward(edgetestdata[j][i])))\n",
    "    out_stats.append([np.average(outs), np.std(outs)])\n",
    "\n",
    "means = [out_stats[i][0] for i in range(len(out_stats))]\n",
    "stds = [out_stats[i][1] for i in range(len(out_stats))]\n",
    "plt.plot(rho_[1:], means[1:],'+')"
   ]
  },
  {
   "cell_type": "code",
   "execution_count": 71,
   "metadata": {},
   "outputs": [
    {
     "data": {
      "text/plain": [
       "<Container object of 3 artists>"
      ]
     },
     "execution_count": 71,
     "metadata": {},
     "output_type": "execute_result"
    },
    {
     "data": {
      "image/png": "[encoded data removed]",
      "text/plain": [
       "<matplotlib.figure.Figure at 0x7f26887daa50>"
      ]
     },
     "metadata": {},
     "output_type": "display_data"
    }
   ],
   "source": [
    "plt.errorbar(rho_[1:], means[1:], yerr=stds[1:], fmt='+')"
   ]
  },
  {
   "cell_type": "code",
   "execution_count": 50,
   "metadata": {},
   "outputs": [
    {
     "data": {
      "text/plain": [
       "[<matplotlib.lines.Line2D at 0x7f268899b190>]"
      ]
     },
     "execution_count": 50,
     "metadata": {},
     "output_type": "execute_result"
    },
    {
     "data": {
      "image/png": "[encoded data removed]",
      "text/plain": [
       "<matplotlib.figure.Figure at 0x7f268f22ebd0>"
      ]
     },
     "metadata": {},
     "output_type": "display_data"
    }
   ],
   "source": [
    "plt.plot(edges,out_avgs,'+')"
   ]
  },
  {
   "cell_type": "code",
   "execution_count": 41,
   "metadata": {
    "collapsed": true
   },
   "outputs": [],
   "source": [
    "nnSave = nn"
   ]
  },
  {
   "cell_type": "code",
   "execution_count": 42,
   "metadata": {},
   "outputs": [
    {
     "data": {
      "image/png": "[encoded data removed]",
      "text/plain": [
       "<matplotlib.figure.Figure at 0x7f268f09c6d0>"
      ]
     },
     "metadata": {},
     "output_type": "display_data"
    }
   ],
   "source": [
    "path = \"saves/\"\n",
    "savetag = \"incl_15Trn_2e4TrnSamp_2\"\n",
    "if not os.path.isfile(path+savetag+\".nn\"):\n",
    "    plt.plot(edges,out_avgs,'+') # Seems to need me to make the plot first\n",
    "    plt.gcf().savefig(path+savetag+\"_output-vs-edge.png\")\n",
    "    fout = open(path+savetag+\".nn\",'w')\n",
    "    s = \"\"\n",
    "    for n in nn.sizes: s+=str(n)+\" \"\n",
    "    s = \"\"\n",
    "    for t in train_params: s+=str(t)+\" \"\n",
    "    fout.write(\"NN sizes: \" + s + \"\\n\")\n",
    "    fout.write(\"training params (Nepoch, minibatch, eta): \" + s + \"\\n\")\n",
    "    for w,b in zip(nnSave.W,nnSave.B):\n",
    "        for wj in w:\n",
    "            s = \"\"\n",
    "            for ww in wj: s+= str(float(ww))+\" \"\n",
    "            fout.write(s)\n",
    "        s = \"\"\n",
    "        fout.write(\"\\n\")\n",
    "        for bj in b:\n",
    "            s += str(float(bj)) + \" \"\n",
    "        fout.write(s)\n",
    "        fout.write(\"\\n\")\n",
    "            \n",
    "        \n",
    "else: print \"File tag already taken\""
   ]
  },
  {
   "cell_type": "code",
   "execution_count": 47,
   "metadata": {},
   "outputs": [
    {
     "name": "stdout",
     "output_type": "stream",
     "text": [
      "[36.0, 16.0, 9.0, 5.76, 4.0, 2.938775510204082, 2.25]\n"
     ]
    }
   ],
   "source": [
    "N = 400\n",
    "L = 3.0\n",
    "rho_ = [L*L*N/float(x*x) for x in edges]\n",
    "print rho_"
   ]
  },
  {
   "cell_type": "code",
   "execution_count": null,
   "metadata": {
    "collapsed": true
   },
   "outputs": [],
   "source": [
    "import mnist_loader\n",
    "trndat, valdat, testdat = mnist_loader.load_data_wrapper()"
   ]
  },
  {
   "cell_type": "code",
   "execution_count": null,
   "metadata": {
    "collapsed": true
   },
   "outputs": [],
   "source": [
    "nn = FullyConnectedNN([784, 100, 10])\n",
    "nn.train(trndat, 21, 100, 3., testdat)"
   ]
  }
 ],
 "metadata": {
  "kernelspec": {
   "display_name": "Python 2",
   "language": "python",
   "name": "python2"
  },
  "language_info": {
   "codemirror_mode": {
    "name": "ipython",
    "version": 2
   },
   "file_extension": ".py",
   "mimetype": "text/x-python",
   "name": "python",
   "nbconvert_exporter": "python",
   "pygments_lexer": "ipython2",
   "version": "2.7.13"
  }
 },
 "nbformat": 4,
 "nbformat_minor": 2
}
