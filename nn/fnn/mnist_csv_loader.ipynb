{
 "cells": [
  {
   "cell_type": "code",
   "execution_count": null,
   "metadata": {
    "collapsed": true
   },
   "outputs": [],
   "source": [
    "import csv\n",
    "\n",
    "# Manage data\n",
    "# CSV files generated from Lecun's files using\n",
    "# https://pjreddie.com/projects/mnist-in-csv/\n",
    "#\n",
    "# Training data\n",
    "trn_labels = []\n",
    "trn_images = []\n",
    "with open(\"mnist_train.csv\", \"r\") as train:\n",
    "    reader = csv.reader(train)\n",
    "    for row in reader:\n",
    "        trn_labels.append(int(row[0]))\n",
    "        tmp = map(float,row[1:])\n",
    "        tmp[:] = [x / 255.0 for x in tmp]\n",
    "        trn_images.append(tmp)\n",
    "\n",
    "print \"Number of training imgs: \", len(trn_labels)\n",
    "\n",
    "# Test data\n",
    "test_labels = []\n",
    "test_images = []\n",
    "with open(\"mnist_test.csv\", \"r\") as test:\n",
    "    reader = csv.reader(test)\n",
    "    for row in reader:\n",
    "        test_labels.append(int(row[0]))\n",
    "        tmp = map(float,row[1:])\n",
    "        tmp[:] = [x / 255.0 for x in tmp]\n",
    "        test_images.append(tmp)\n",
    "        \n",
    "print \"Number of test imgs: \", len(test_labels)"
   ]
  }
 ],
 "metadata": {
  "kernelspec": {
   "display_name": "Python 2",
   "language": "python",
   "name": "python2"
  },
  "language_info": {
   "codemirror_mode": {
    "name": "ipython",
    "version": 2
   },
   "file_extension": ".py",
   "mimetype": "text/x-python",
   "name": "python",
   "nbconvert_exporter": "python",
   "pygments_lexer": "ipython2",
   "version": "2.7.13"
  }
 },
 "nbformat": 4,
 "nbformat_minor": 2
}
