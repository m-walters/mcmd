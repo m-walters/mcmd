{
 "cells": [
  {
   "cell_type": "code",
   "execution_count": 1,
   "metadata": {
    "collapsed": true
   },
   "outputs": [],
   "source": [
    "import numpy as np\n",
    "import os\n",
    "import random\n",
    "import matplotlib.pyplot as plt\n",
    "%matplotlib inline\n",
    "\n",
    "import FullyConnectedNN as fnn"
   ]
  },
  {
   "cell_type": "code",
   "execution_count": 2,
   "metadata": {
    "collapsed": true
   },
   "outputs": [],
   "source": [
    "#\n",
    "# Analysis parameters\n",
    "#\n",
    "run = \"edgevar\"\n",
    "trnDir = \"data/\"+run+\"/train/\"\n",
    "testDir = \"data/\"+run+\"/test/\"\n",
    "unlabeledDir = \"data/\"+run+\"/unlabeled/\"\n",
    "bThetas = True\n",
    "\n",
    "trnfnames = [\"edge10\", \"edge40\", \"edge15\"]\n",
    "testfnames = [\"edge10\", \"edge40\", \"edge15\"]\n",
    "unlabeledfnames = [\"edge15\", \"edge15.25\", \"edge15.5\", \"edge15.75\", \"edge16\",\n",
    "                   \"edge16.25\", \"edge16.5\", \"edge16.75\", \"edge17\", \"edge17.5\",\n",
    "                   \"edge18\", \"edge18.5\", \"edge19\", \"edge19.5\", \"edge20\", \"edge21\", \n",
    "                   \"edge22\", \"edge23\", \"edge25\", \"edge30\"]"
   ]
  },
  {
   "cell_type": "code",
   "execution_count": 3,
   "metadata": {},
   "outputs": [
    {
     "name": "stdout",
     "output_type": "stream",
     "text": [
      "Processing edge10 as training data\n",
      "400 399\n",
      "Processing edge40 as training data\n",
      "400 399\n",
      "Processing edge15 as training data\n",
      "400 399\n",
      "Done compiling training set\n"
     ]
    }
   ],
   "source": [
    "nTrn = 0\n",
    "nTrn_lbl = 0\n",
    "maxTrn = 20000\n",
    "# Compile training set\n",
    "trn_data = []\n",
    "trn_inputs = []\n",
    "trn_labels = []\n",
    "\n",
    "#for aFile in os.listdir(trnInpDir):\n",
    "            \n",
    "for f in trnfnames:\n",
    "    print \"Processing \" + f + \" as training data\"\n",
    "    thetas = []\n",
    "    xs = []\n",
    "    ys = []\n",
    "    fin = open(trnDir+f, 'r')\n",
    "    c = 0\n",
    "    for line in fin.readlines():\n",
    "        c +=1\n",
    "        if line == \"\\n\": continue\n",
    "        if line.startswith(\"label\"):\n",
    "            # Done a block\n",
    "            if len(thetas) != 400:\n",
    "                print c,len(thetas)\n",
    "                xs = []\n",
    "                ys = []\n",
    "                thetas = []\n",
    "                continue\n",
    "            label = [[0.], [0.]]\n",
    "            idx = int(float(line.split()[1]))\n",
    "            label[idx] = [1.]\n",
    "            trn_labels.append(label)\n",
    "            if bThetas:\n",
    "                trn_inputs.append(thetas)\n",
    "            else:\n",
    "                trn_inputs.append(thetas + xs + ys)\n",
    "            thetas = []\n",
    "            xs = []\n",
    "            ys = []\n",
    "            nTrn+=1\n",
    "            if nTrn == maxTrn: break\n",
    "            continue\n",
    "        spt = [float(x) for x in line.split()]\n",
    "        xs.append([spt[0]])\n",
    "        ys.append([spt[1]])\n",
    "        thetas.append([spt[2]])\n",
    "\n",
    "    fin.close()\n",
    "#         label = [[float(x)] for x in line.split()]\n",
    "#         trn_labels.append(label)\n",
    "#         nTrn_lbl+=1\n",
    "#         if nTrn_lbl == maxTrn: break\n",
    "\n",
    "    if nTrn == maxTrn: break\n",
    "        \n",
    "for i in range(len(trn_inputs)):\n",
    "    trn_data.append((np.asarray(trn_inputs[i]), np.asarray(trn_labels[i])))\n",
    "    \n",
    "random.shuffle(trn_data)\n",
    "\n",
    "print \"Done compiling training set\""
   ]
  },
  {
   "cell_type": "code",
   "execution_count": 17,
   "metadata": {},
   "outputs": [
    {
     "data": {
      "text/plain": [
       "11100"
      ]
     },
     "execution_count": 17,
     "metadata": {},
     "output_type": "execute_result"
    }
   ],
   "source": [
    "len(trn_data)"
   ]
  },
  {
   "cell_type": "code",
   "execution_count": 30,
   "metadata": {},
   "outputs": [
    {
     "name": "stdout",
     "output_type": "stream",
     "text": [
      "Adding edge10 to test set\n",
      "Adding edge40 to test set\n",
      "Adding edge15 to test set\n",
      "Done\n"
     ]
    }
   ],
   "source": [
    "test_data = []\n",
    "test_inputs = []\n",
    "test_labels = []\n",
    "\n",
    "for f in testfnames:\n",
    "    print \"Adding \" + f + \" to test set\"\n",
    "    thetas = []\n",
    "    xs = []\n",
    "    ys = []\n",
    "    fin = open(testDir+f, 'r')\n",
    "    for line in fin.readlines():\n",
    "        if line == \"\\n\": continue\n",
    "        if line.startswith(\"label\"):\n",
    "            # Done a block\n",
    "            test_labels.append(float(line.split()[1]))\n",
    "            if bThetas:\n",
    "                test_inputs.append(thetas)\n",
    "            else:\n",
    "                test_inputs.append(thetas + xs + ys)\n",
    "            thetas = []\n",
    "            xs = []\n",
    "            ys = []\n",
    "            continue\n",
    "        spt = [float(x) for x in line.split()]\n",
    "        xs.append([spt[0]])\n",
    "        ys.append([spt[1]])\n",
    "        thetas.append([spt[2]])\n",
    "\n",
    "    fin.close()\n",
    "for i in range(len(test_inputs)):\n",
    "    test_data.append((np.asarray(test_inputs[i]), np.asarray(test_labels[i])))\n",
    "\n",
    "print \"Done\""
   ]
  },
  {
   "cell_type": "code",
   "execution_count": 23,
   "metadata": {},
   "outputs": [
    {
     "data": {
      "text/plain": [
       "900"
      ]
     },
     "execution_count": 23,
     "metadata": {},
     "output_type": "execute_result"
    }
   ],
   "source": [
    "len(test_data)"
   ]
  },
  {
   "cell_type": "code",
   "execution_count": 22,
   "metadata": {},
   "outputs": [
    {
     "name": "stdout",
     "output_type": "stream",
     "text": [
      "11100 900\n"
     ]
    }
   ],
   "source": [
    "print len(trn_data), len(test_data)"
   ]
  },
  {
   "cell_type": "code",
   "execution_count": 26,
   "metadata": {
    "collapsed": true
   },
   "outputs": [],
   "source": [
    "nn = None"
   ]
  },
  {
   "cell_type": "code",
   "execution_count": 16,
   "metadata": {},
   "outputs": [
    {
     "data": {
      "text/plain": [
       "<module 'FullyConnectedNN' from 'FullyConnectedNN.py'>"
      ]
     },
     "execution_count": 16,
     "metadata": {},
     "output_type": "execute_result"
    }
   ],
   "source": [
    "reload(fnn)"
   ]
  },
  {
   "cell_type": "code",
   "execution_count": 33,
   "metadata": {},
   "outputs": [
    {
     "name": "stdout",
     "output_type": "stream",
     "text": [
      "eta  5.009375\n",
      "Epoch 0 Accuracy:  0.667777777778\n",
      "eta  5.005\n",
      "Epoch 1 Accuracy:  0.674444444444\n",
      "eta  4.993125\n",
      "Epoch 2 Accuracy:  0.684444444444\n",
      "eta  4.97\n",
      "Epoch 3 Accuracy:  0.686666666667\n",
      "eta  4.931875\n",
      "Epoch 4 Accuracy:  0.691111111111\n",
      "eta  4.875\n",
      "Epoch 5 Accuracy:  0.7\n",
      "eta  4.795625\n",
      "Epoch 6 Accuracy:  0.717777777778\n",
      "eta  4.69\n",
      "Epoch 7 Accuracy:  0.696666666667\n",
      "eta  4.554375\n",
      "Epoch 8 Accuracy:  0.703333333333\n",
      "eta  4.385\n",
      "Epoch 9 Accuracy:  0.708888888889\n",
      "eta  4.178125\n",
      "Epoch 10 Accuracy:  0.715555555556\n",
      "eta  3.93\n",
      "Epoch 11 Accuracy:  0.711111111111\n",
      "eta  3.636875\n",
      "Epoch 12 Accuracy:  0.711111111111\n",
      "eta  3.295\n",
      "Epoch 13 Accuracy:  0.711111111111\n",
      "eta  2.900625\n",
      "Epoch 14 Accuracy:  0.712222222222\n",
      "eta  2.45\n",
      "Epoch 15 Accuracy:  0.713333333333\n",
      "eta  1.939375\n",
      "Epoch 16 Accuracy:  0.713333333333\n",
      "eta  1.365\n",
      "Epoch 17 Accuracy:  0.712222222222\n",
      "eta  0.723125\n",
      "Epoch 18 Accuracy:  0.712222222222\n",
      "eta  0.01\n",
      "Epoch 19 Accuracy:  0.712222222222\n"
     ]
    }
   ],
   "source": [
    "if bThetas:\n",
    "    nn = fnn.FullyConnectedNN([400, 100, 2])\n",
    "else:\n",
    "    nn = fnn.FullyConnectedNN([1200, 100, 2])\n",
    "# nn = FullyConnectedNN([784, 100, 10])\n",
    "\n",
    "#nn.train(training data, nEpoch, minibatch, eta, testdata=None)\n",
    "train_params = [20, 100, 5.]\n",
    "nn.train(trn_data, train_params[0], train_params[1], train_params[2], test_data)"
   ]
  },
  {
   "cell_type": "code",
   "execution_count": 10,
   "metadata": {
    "collapsed": true
   },
   "outputs": [],
   "source": [
    "nnSave = nn"
   ]
  },
  {
   "cell_type": "code",
   "execution_count": 11,
   "metadata": {},
   "outputs": [
    {
     "data": {
      "text/plain": [
       "(array([ 10330.,      0.,      0.,      0.,      0.,      0.,      0.,\n",
       "             0.,      0.,   9670.]),\n",
       " array([ 0. ,  0.1,  0.2,  0.3,  0.4,  0.5,  0.6,  0.7,  0.8,  0.9,  1. ]),\n",
       " <a list of 10 Patch objects>)"
      ]
     },
     "execution_count": 11,
     "metadata": {},
     "output_type": "execute_result"
    },
    {
     "data": {
      "image/png": "[encoded data removed]",
      "text/plain": [
       "<matplotlib.figure.Figure at 0x2b5fd4e2fb90>"
      ]
     },
     "metadata": {},
     "output_type": "display_data"
    }
   ],
   "source": [
    "trnlabels = []\n",
    "for i in range(0,len(trn_data)):\n",
    "    trnlabels.append(np.argmax(trn_data[i][1]))\n",
    "\n",
    "plt.hist(trnlabels)"
   ]
  },
  {
   "cell_type": "code",
   "execution_count": 27,
   "metadata": {},
   "outputs": [
    {
     "name": "stdout",
     "output_type": "stream",
     "text": [
      "600 372 300 206\n",
      "Fraction of correct for label 1:  0.62\n",
      "Fraction of correct for label 2:  0.686666666667\n"
     ]
    },
    {
     "data": {
      "text/plain": [
       "(array([ 466.,    0.,    0.,    0.,    0.,    0.,    0.,    0.,    0.,  434.]),\n",
       " array([ 0. ,  0.1,  0.2,  0.3,  0.4,  0.5,  0.6,  0.7,  0.8,  0.9,  1. ]),\n",
       " <a list of 10 Patch objects>)"
      ]
     },
     "execution_count": 27,
     "metadata": {},
     "output_type": "execute_result"
    },
    {
     "data": {
      "image/png": "[encoded data removed]",
      "text/plain": [
       "<matplotlib.figure.Figure at 0x2b5fd576c610>"
      ]
     },
     "metadata": {},
     "output_type": "display_data"
    }
   ],
   "source": [
    "outs = []\n",
    "labels = []\n",
    "corr = []\n",
    "for i in range(0,len(test_data)):\n",
    "    labels.append(float(test_data[i][1]))\n",
    "    outs.append(float(np.argmax(nn.feedforward(test_data[i][0]))))\n",
    "    corr.append(labels[-1]==outs[-1])\n",
    "\n",
    "ncorr1 = 0\n",
    "ncorr2 = 0\n",
    "n1, n2 = 0, 0\n",
    "for i in range(len(labels)):\n",
    "    if labels[i] == 0.:\n",
    "        n1+=1\n",
    "        ncorr1+=corr[i]\n",
    "    elif labels[i] == 1.:\n",
    "        n2+=1\n",
    "        ncorr2+=corr[i]\n",
    "print n1, ncorr1, n2, ncorr2\n",
    "print \"Fraction of correct for label 1: \", float(ncorr1)/n1\n",
    "print \"Fraction of correct for label 2: \", float(ncorr2)/n2\n",
    "plt.hist(labels, alpha=0.5, color='b')\n",
    "plt.hist(outs, alpha=0.5, color='r')"
   ]
  },
  {
   "cell_type": "code",
   "execution_count": 28,
   "metadata": {
    "collapsed": true
   },
   "outputs": [],
   "source": [
    "# Clear data for RAM\n",
    "trn_data = None\n",
    "test_data = None"
   ]
  },
  {
   "cell_type": "code",
   "execution_count": 29,
   "metadata": {
    "collapsed": true
   },
   "outputs": [],
   "source": [
    "edges = [15,15.25,15.75,16,16.5,17,17.5,18,19,20,23,25,30]\n",
    "# edges = [15,15.25,15.5,15.75,16,16.25,16.5,16.75,17,17.5,18,18.5,19,19.5,20,21,22,23,25,30]\n",
    "N = 400\n",
    "L = 3.0\n",
    "rho_ = [L*L*N/float(x*x) for x in edges]\n",
    "\n",
    "unlabeledfnames = [\"edge15\", \"edge15.25\", \"edge15.75\", \"edge16\",\n",
    "                   \"edge16.5\", \"edge17\", \"edge17.5\",\n",
    "                   \"edge18\", \"edge19\", \"edge20\", \n",
    "                   \"edge23\", \"edge25\", \"edge30\"]"
   ]
  },
  {
   "cell_type": "code",
   "execution_count": 15,
   "metadata": {},
   "outputs": [
    {
     "name": "stdout",
     "output_type": "stream",
     "text": [
      "Adding edge15 unlabeled set\n",
      "300\n",
      "[0.37666666666666665, 0.48455019233190783]\n",
      "Adding edge15.25 unlabeled set\n",
      "2000\n",
      "[0.33700000000000002, 0.47268488446321194]\n",
      "Adding edge15.75 unlabeled set\n",
      "2000\n",
      "[0.90400000000000003, 0.2945912422323515]\n",
      "Adding edge16 unlabeled set\n",
      "2000\n",
      "[0.88200000000000001, 0.32260812141048156]\n",
      "Adding edge16.5 unlabeled set\n",
      "2000\n",
      "[0.85250000000000004, 0.3546036519834504]\n",
      "Adding edge17 unlabeled set\n",
      "2000\n",
      "[0.39950000000000002, 0.48979562064191634]\n",
      "Adding edge17.5 unlabeled set\n",
      "2000\n",
      "[0.39200000000000002, 0.4881966816765555]\n",
      "Adding edge18 unlabeled set\n",
      "2000\n",
      "[0.84699999999999998, 0.35998749978297861]\n",
      "Adding edge19 unlabeled set\n",
      "2000\n",
      "[0.81399999999999995, 0.38910666917954523]\n",
      "Adding edge20 unlabeled set\n",
      "2000\n",
      "[0.63400000000000001, 0.48170945600019111]\n",
      "Adding edge23 unlabeled set\n",
      "2000\n",
      "[0.66149999999999998, 0.47319948224823749]\n",
      "Adding edge25 unlabeled set\n",
      "2000\n",
      "[0.66500000000000004, 0.47199046600540567]\n",
      "Adding edge30 unlabeled set\n",
      "2000\n",
      "[0.6825, 0.46550375938331584]\n",
      "Done\n"
     ]
    }
   ],
   "source": [
    "maxSample = 2000\n",
    "n = 0\n",
    "out_stats = [] # mean and std pairs\n",
    "\n",
    "# unlabeledfnames = [\"edge10_\"]\n",
    "# unlabeledfnames = []\n",
    "# unlabeledfnames = [\"edge10\", \"edge15\", \"edge20\", \"edge25_\", \"edge30\", \"edge35\", \"edge40\"]\n",
    "for f in unlabeledfnames:\n",
    "    inputs = []\n",
    "    filedata = []\n",
    "    print \"Adding \" + f + \" unlabeled set\"\n",
    "    thetas = []\n",
    "    xs = []\n",
    "    ys = []\n",
    "    fin = open(unlabeledDir+f, 'r')\n",
    "    n = 0\n",
    "    for line in fin.readlines():\n",
    "        if n==maxSample:\n",
    "            break\n",
    "        if line == \"\\n\":\n",
    "            # Done a block\n",
    "            n+=1\n",
    "            if bThetas:\n",
    "                inputs.append(thetas)\n",
    "            else:\n",
    "                inputs.append(thetas + xs + ys)\n",
    "            thetas = []\n",
    "            xs = []\n",
    "            ys = []\n",
    "            continue\n",
    "        spt = [float(x) for x in line.split()]\n",
    "        xs.append([spt[0]])\n",
    "        ys.append([spt[1]])\n",
    "        thetas.append([spt[2]])\n",
    "        \n",
    "    fin.close()\n",
    "    for i in range(len(inputs)):\n",
    "#         filedata.append((np.asarray(test_inputs[i]), np.asarray(test_labels[i])))\n",
    "        filedata.append((np.asarray(inputs[i])))\n",
    "#     edgetestdata.append(filedata)\n",
    "\n",
    "    outs = []\n",
    "    print len(filedata)\n",
    "    for i in range(0,len(filedata)):\n",
    "        outs.append(np.argmax(nn.feedforward(filedata[i])))\n",
    "    out_stats.append([np.average(outs), np.std(outs)])\n",
    "    print out_stats[-1]\n",
    "\n",
    "\n",
    "print \"Done\""
   ]
  },
  {
   "cell_type": "code",
   "execution_count": 13,
   "metadata": {},
   "outputs": [
    {
     "data": {
      "text/plain": [
       "[16.0,\n",
       " 15.479709755442085,\n",
       " 14.512471655328799,\n",
       " 14.0625,\n",
       " 13.223140495867769,\n",
       " 12.456747404844291,\n",
       " 11.755102040816327,\n",
       " 11.11111111111111,\n",
       " 9.97229916897507,\n",
       " 9.0,\n",
       " 6.805293005671078,\n",
       " 5.76,\n",
       " 4.0]"
      ]
     },
     "execution_count": 13,
     "metadata": {},
     "output_type": "execute_result"
    }
   ],
   "source": [
    "rho_"
   ]
  },
  {
   "cell_type": "code",
   "execution_count": 73,
   "metadata": {},
   "outputs": [
    {
     "data": {
      "text/plain": [
       "[<matplotlib.lines.Line2D at 0x7f268813b210>]"
      ]
     },
     "execution_count": 73,
     "metadata": {},
     "output_type": "execute_result"
    },
    {
     "data": {
      "image/png": "[encoded data removed]",
      "text/plain": [
       "<matplotlib.figure.Figure at 0x7f26882be410>"
      ]
     },
     "metadata": {},
     "output_type": "display_data"
    }
   ],
   "source": [
    "y = []\n",
    "for i in range(len(edgetestdata[2])):\n",
    "    y.append(np.max(nn.feedforward(edgetestdata[2][i])))\n",
    "plt.plot(y[0:])"
   ]
  },
  {
   "cell_type": "code",
   "execution_count": 14,
   "metadata": {},
   "outputs": [
    {
     "name": "stdout",
     "output_type": "stream",
     "text": [
      "[9.0, 5.76, 4.0, 2.938775510204082, 16.0, 15.479709755442085, 14.984391259105099, 14.512471655328799, 14.0625, 13.633136094674557, 13.223140495867769, 12.83136556025841, 12.456747404844291, 11.755102040816327, 11.11111111111111, 10.51862673484295, 9.97229916897507, 9.467455621301776, 8.16326530612245, 7.43801652892562, 6.805293005671078]\n",
      "[0.57235723572357233, 0.73507350735073507, 0.87478747874787477, 0.90909090909090906, 0.074999999999999997, 0.0402, 0.99009999999999998, 0.99039999999999995, 0.98480000000000001, 0.98399999999999999, 0.98560000000000003, 0.0441, 0.052400000000000002, 0.059299999999999999, 0.97899999999999998, 0.076999999999999999, 0.9748, 0.90959999999999996, 0.50549999999999995, 0.63980000000000004, 0.54800000000000004]\n"
     ]
    }
   ],
   "source": [
    "print rho_\n",
    "print means"
   ]
  },
  {
   "cell_type": "code",
   "execution_count": 16,
   "metadata": {},
   "outputs": [
    {
     "data": {
      "text/plain": [
       "[15, 15.25, 15.75, 16, 16.5, 17, 17.5, 18, 19, 20, 23, 25, 30]"
      ]
     },
     "execution_count": 16,
     "metadata": {},
     "output_type": "execute_result"
    }
   ],
   "source": [
    "edges"
   ]
  },
  {
   "cell_type": "code",
   "execution_count": 16,
   "metadata": {},
   "outputs": [
    {
     "data": {
      "text/plain": [
       "[<matplotlib.lines.Line2D at 0x2b5fd5798890>]"
      ]
     },
     "execution_count": 16,
     "metadata": {},
     "output_type": "execute_result"
    },
    {
     "data": {
      "image/png": "[encoded data removed]",
      "text/plain": [
       "<matplotlib.figure.Figure at 0x2b5fd57c80d0>"
      ]
     },
     "metadata": {},
     "output_type": "display_data"
    }
   ],
   "source": [
    "means = [out_stats[i][0] for i in range(len(out_stats))]\n",
    "stds = [out_stats[i][1] for i in range(len(out_stats))]\n",
    "# plt.plot(rho_[0:], means[0:],'+')\n",
    "plt.plot(edges, means,'+')"
   ]
  },
  {
   "cell_type": "code",
   "execution_count": 78,
   "metadata": {},
   "outputs": [
    {
     "data": {
      "text/plain": [
       "[<matplotlib.lines.Line2D at 0x7f268f0637d0>]"
      ]
     },
     "execution_count": 78,
     "metadata": {},
     "output_type": "execute_result"
    },
    {
     "data": {
      "image/png": "[encoded data removed]",
      "text/plain": [
       "<matplotlib.figure.Figure at 0x7f268821d650>"
      ]
     },
     "metadata": {},
     "output_type": "display_data"
    }
   ],
   "source": [
    "out_stats = [] # mean and std pairs\n",
    "edges = [10,15,20,25,30,35,40]\n",
    "N = 400\n",
    "L = 3.0\n",
    "rho_ = [L*L*N/float(x*x) for x in edges]\n",
    "\n",
    "for j in range(len(rho_)):\n",
    "    outs = []\n",
    "    for i in range(0,len(edgetestdata[j])):\n",
    "        outs.append(np.argmax(nn.feedforward(edgetestdata[j][i])))\n",
    "    out_stats.append([np.average(outs), np.std(outs)])\n",
    "\n",
    "means = [out_stats[i][0] for i in range(len(out_stats))]\n",
    "stds = [out_stats[i][1] for i in range(len(out_stats))]\n",
    "plt.plot(rho_[1:], means[1:],'+')"
   ]
  },
  {
   "cell_type": "code",
   "execution_count": 71,
   "metadata": {},
   "outputs": [
    {
     "data": {
      "text/plain": [
       "<Container object of 3 artists>"
      ]
     },
     "execution_count": 71,
     "metadata": {},
     "output_type": "execute_result"
    },
    {
     "data": {
      "image/png": "[encoded data removed]",
      "text/plain": [
       "<matplotlib.figure.Figure at 0x7f26887daa50>"
      ]
     },
     "metadata": {},
     "output_type": "display_data"
    }
   ],
   "source": [
    "plt.errorbar(rho_[1:], means[1:], yerr=stds[1:], fmt='+')"
   ]
  },
  {
   "cell_type": "code",
   "execution_count": 50,
   "metadata": {},
   "outputs": [
    {
     "data": {
      "text/plain": [
       "[<matplotlib.lines.Line2D at 0x7f268899b190>]"
      ]
     },
     "execution_count": 50,
     "metadata": {},
     "output_type": "execute_result"
    },
    {
     "data": {
      "image/png": "[encoded data removed]",
      "text/plain": [
       "<matplotlib.figure.Figure at 0x7f268f22ebd0>"
      ]
     },
     "metadata": {},
     "output_type": "display_data"
    }
   ],
   "source": [
    "plt.plot(edges,out_avgs,'+')"
   ]
  },
  {
   "cell_type": "code",
   "execution_count": 41,
   "metadata": {
    "collapsed": true
   },
   "outputs": [],
   "source": [
    "nnSave = nn"
   ]
  },
  {
   "cell_type": "code",
   "execution_count": 42,
   "metadata": {},
   "outputs": [
    {
     "data": {
      "image/png": "[encoded data removed]",
      "text/plain": [
       "<matplotlib.figure.Figure at 0x7f268f09c6d0>"
      ]
     },
     "metadata": {},
     "output_type": "display_data"
    }
   ],
   "source": [
    "path = \"saves/\"\n",
    "savetag = \"incl_15Trn_2e4TrnSamp_2\"\n",
    "if not os.path.isfile(path+savetag+\".nn\"):\n",
    "    plt.plot(edges,out_avgs,'+') # Seems to need me to make the plot first\n",
    "    plt.gcf().savefig(path+savetag+\"_output-vs-edge.png\")\n",
    "    fout = open(path+savetag+\".nn\",'w')\n",
    "    s = \"\"\n",
    "    for n in nn.sizes: s+=str(n)+\" \"\n",
    "    s = \"\"\n",
    "    for t in train_params: s+=str(t)+\" \"\n",
    "    fout.write(\"NN sizes: \" + s + \"\\n\")\n",
    "    fout.write(\"training params (Nepoch, minibatch, eta): \" + s + \"\\n\")\n",
    "    for w,b in zip(nnSave.W,nnSave.B):\n",
    "        for wj in w:\n",
    "            s = \"\"\n",
    "            for ww in wj: s+= str(float(ww))+\" \"\n",
    "            fout.write(s)\n",
    "        s = \"\"\n",
    "        fout.write(\"\\n\")\n",
    "        for bj in b:\n",
    "            s += str(float(bj)) + \" \"\n",
    "        fout.write(s)\n",
    "        fout.write(\"\\n\")\n",
    "            \n",
    "        \n",
    "else: print \"File tag already taken\""
   ]
  },
  {
   "cell_type": "code",
   "execution_count": 47,
   "metadata": {},
   "outputs": [
    {
     "name": "stdout",
     "output_type": "stream",
     "text": [
      "[36.0, 16.0, 9.0, 5.76, 4.0, 2.938775510204082, 2.25]\n"
     ]
    }
   ],
   "source": [
    "N = 400\n",
    "L = 3.0\n",
    "rho_ = [L*L*N/float(x*x) for x in edges]\n",
    "print rho_"
   ]
  },
  {
   "cell_type": "code",
   "execution_count": null,
   "metadata": {
    "collapsed": true
   },
   "outputs": [],
   "source": [
    "import mnist_loader\n",
    "trndat, valdat, testdat = mnist_loader.load_data_wrapper()"
   ]
  },
  {
   "cell_type": "code",
   "execution_count": null,
   "metadata": {
    "collapsed": true
   },
   "outputs": [],
   "source": [
    "nn = FullyConnectedNN([784, 100, 10])\n",
    "nn.train(trndat, 21, 100, 3., testdat)"
   ]
  }
 ],
 "metadata": {
  "kernelspec": {
   "display_name": "Python 2",
   "language": "python",
   "name": "python2"
  },
  "language_info": {
   "codemirror_mode": {
    "name": "ipython",
    "version": 2
   },
   "file_extension": ".py",
   "mimetype": "text/x-python",
   "name": "python",
   "nbconvert_exporter": "python",
   "pygments_lexer": "ipython2",
   "version": "2.7.13"
  }
 },
 "nbformat": 4,
 "nbformat_minor": 2
}
