{
 "cells": [
  {
   "cell_type": "code",
   "execution_count": 1,
   "metadata": {},
   "outputs": [],
   "source": [
    "import numpy as np\n",
    "import matplotlib.pyplot as plt\n",
    "# from matplotlib.ticker import (MultipleLocator, FormatStrFormatter,\n",
    "#                                AutoMinorLocator)\n",
    "%matplotlib inline\n",
    "plt.style.use('~/.config/matplotlib/stylelib/paper.mplstyle')\n",
    "twopi = 2.*np.pi"
   ]
  },
  {
   "cell_type": "code",
   "execution_count": 2,
   "metadata": {},
   "outputs": [],
   "source": [
    "def Lambda(block):\n",
    "    # Each block is list of angles in range [0,1]\n",
    "    twopi = 2.*np.pi\n",
    "    block = [twopi*t for t in block]\n",
    "    S,T = 0.,0.\n",
    "    for th in block:\n",
    "        S += np.cos(2.*th)\n",
    "        T += np.sin(2.*th)\n",
    "        \n",
    "    S /= len(block)\n",
    "    T /= len(block)\n",
    "    \n",
    "    return np.sqrt(S*S + T*T)"
   ]
  },
  {
   "cell_type": "code",
   "execution_count": 3,
   "metadata": {},
   "outputs": [
    {
     "name": "stderr",
     "output_type": "stream",
     "text": [
      "/home/walterms/jupyter_py2/lib/python2.7/site-packages/matplotlib/font_manager.py:1316: UserWarning: findfont: Font family [u'sans-serif'] not found. Falling back to DejaVu Sans\n",
      "  (prop.get_family(), self.defaultFamily[fontext]))\n"
     ]
    },
    {
     "data": {
      "image/png": "[encoded data removed]",
      "text/plain": [
       "<matplotlib.figure.Figure at 0x2b42d2b21dd0>"
      ]
     },
     "metadata": {},
     "output_type": "display_data"
    }
   ],
   "source": [
    "# imgname = \"spiral_e15.00_n70_th0.00\"\n",
    "# imgnames = [\"T\",\"T_lrg\",\"U\",\"U_lrg\",\"V\",\"V_lrg\",\"W\",\"W_lrg\",\"O\",\"O_lrg\",\"H\",\"H_lrg\"]\n",
    "imgnames = [\"Q\",\"Q_lrg\"]\n",
    "paramdir = \"/home/walterms/project/walterms/circ_mcmd/params/\"\n",
    "# paramfile = \"/home/walterms/project/walterms/circ_mcmd/params/spiral_e17.00_n70_th0.00.param\"\n",
    "source_dir = \"/home/walterms/project/walterms/circ_mcmd/output/\"\n",
    "savedir = \"/home/walterms/project/walterms/circ_mcmd/plots/\"\n",
    "\n",
    "f = plt.figure();\n",
    "plt.ylim(0,1.0)\n",
    "\n",
    "for imgname in imgnames:\n",
    "    f.clf()\n",
    "    \n",
    "    sweepeval = 1\n",
    "    fpar = open(paramdir+imgname+\".param\",'r')\n",
    "    for l in fpar:\n",
    "        spt = l.split()\n",
    "        if spt[0] == \"sweepEval\":\n",
    "            ss = spt[2].rstrip(\";\")\n",
    "            sweepeval = int(ss)\n",
    "    fpar.close()\n",
    "\n",
    "    nskip = 2\n",
    "    halfL = 1.0/2\n",
    "\n",
    "    # Count num blocks\n",
    "    Nblock = 0\n",
    "    dfile = open(source_dir+imgname, \"r\")\n",
    "    for line in dfile.readlines():\n",
    "        if line == \"\\n\": Nblock+=1\n",
    "    dfile.seek(0)\n",
    "\n",
    "    if not (dfile.readline()[0].isalpha()): dfile.seek(0)\n",
    "    cntSnap = 0\n",
    "    sweeps = []\n",
    "    Ls = []\n",
    "    block = []\n",
    "    for line in dfile.readlines():\n",
    "        if cntSnap < nskip:\n",
    "            if line ==\"\\n\": cntSnap+=1\n",
    "            continue\n",
    "        if line == \"\\n\":\n",
    "            Ls.append(Lambda(block))\n",
    "            sweeps.append(cntSnap*sweepeval)\n",
    "            block = []\n",
    "            cntSnap+=1\n",
    "\n",
    "            continue\n",
    "        l = [float(x) for x in line.split()]\n",
    "        th = l[4]\n",
    "        block.append(th/twopi)\n",
    "\n",
    "    dfile.close()\n",
    "\n",
    "    plt.ylim(0,1.0)\n",
    "    plt.gca().xaxis.set_major_locator(plt.MaxNLocator(4))\n",
    "    plt.plot(sweeps,Ls)\n",
    "    f.savefig(savedir+imgname+\"_lambda.pdf\")"
   ]
  }
 ],
 "metadata": {
  "kernelspec": {
   "display_name": "Python 2",
   "language": "python",
   "name": "python2"
  },
  "language_info": {
   "codemirror_mode": {
    "name": "ipython",
    "version": 2
   },
   "file_extension": ".py",
   "mimetype": "text/x-python",
   "name": "python",
   "nbconvert_exporter": "python",
   "pygments_lexer": "ipython2",
   "version": "2.7.14"
  }
 },
 "nbformat": 4,
 "nbformat_minor": 2
}
