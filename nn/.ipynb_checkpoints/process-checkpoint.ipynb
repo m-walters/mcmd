{
 "cells": [
  {
   "cell_type": "code",
   "execution_count": 3,
   "metadata": {
    "collapsed": true
   },
   "outputs": [],
   "source": [
    "import numpy as np\n",
    "oneOver2Pi = 1./(2.*np.pi)"
   ]
  },
  {
   "cell_type": "code",
   "execution_count": 4,
   "metadata": {
    "collapsed": true
   },
   "outputs": [],
   "source": [
    "def edgeLenCalc(block):\n",
    "    maxX, maxY = 0., 0.\n",
    "    for line in block:\n",
    "        spt = line.split()\n",
    "        spt = [float(x) for x in spt]\n",
    "        if spt[5] > maxX: maxX = spt[5]\n",
    "        if spt[7] > maxX: maxX = spt[7]\n",
    "        if spt[6] > maxY: maxY = spt[6]\n",
    "        if spt[8] > maxY: maxY = spt[8]\n",
    "    maxX = np.ceil(2*maxX)/2. # This gives 0.5 resolution\n",
    "    maxY = np.ceil(2*maxY)/2.\n",
    "    return maxX, maxY"
   ]
  },
  {
   "cell_type": "code",
   "execution_count": 5,
   "metadata": {
    "collapsed": true
   },
   "outputs": [],
   "source": [
    "#\n",
    "# Processing parameters\n",
    "#\n",
    "run = \"edgevar\"\n",
    "in_dir = \"/home/michael/msc/mcmd/output/\"+run+\"/\"\n",
    "trn_dir = \"/home/michael/msc/mcmd/nn/fnn/data/\"+run+\"/train/\"\n",
    "test_dir = \"/home/michael/msc/mcmd/nn/fnn/data/\"+run+\"/test/\"\n",
    "unlabeled_dir = \"/home/michael/msc/mcmd/nn/fnn/data/\"+run+\"/unlabeled/\"\n",
    "\n",
    "# For trnfnames, dict of run: label\n",
    "trnfnames = {\"edge40\": 1., \"edge10\": 0., \"edge15\": 0.}\n",
    "nTrn2Test = 200 # How many train snaps channelled to test\n",
    "\n",
    "unlabeledfnames = [\"edge20\", \"edge25\", \"edge30\", \"edge35\", \"edge15\", \n",
    "                   \"edge15.25\", \"edge15.5\", \"edge15.75\", \"edge16\", \"edge16.25\", \n",
    "                   \"edge16.25\", \"edge16.5\", \"edge16.75\", \"edge17\", \"edge17.5\",\n",
    "                   \"edge18\", \"edge18.5\", \"edge19\", \"edge19.5\", \"edge21\", \n",
    "                   \"edge22\", \"edge23\", \"edge24\"]"
   ]
  },
  {
   "cell_type": "code",
   "execution_count": 6,
   "metadata": {
    "collapsed": true
   },
   "outputs": [],
   "source": [
    "#\n",
    "# Processing parameters\n",
    "#\n",
    "run = \"XT\"\n",
    "in_dir = \"/home/michael/msc/mcmd/output/\"+run+\"/\"\n",
    "trn_dir = \"/home/michael/msc/mcmd/nn/fnn/data/\"+run+\"/train/\"\n",
    "test_dir = \"/home/michael/msc/mcmd/nn/fnn/data/\"+run+\"/test/\"\n",
    "unlabeled_dir = \"/home/michael/msc/mcmd/nn/fnn/data/\"+run+\"/unlabeled/\"\n",
    "\n",
    "# For trnfnames, dict of run: label\n",
    "# where label is 0-5 for [D, X, T, U, L, iso] respectively\n",
    "trnfnames = {\"X\": 1., \"T\": 2.}\n",
    "\n",
    "nblTrn2Test = 300 # How many train blocks channelled to test\n",
    "nblPerTrnFile = 200 # Number of blocks per training file PER type (used to parse training blocks)\n",
    "\n",
    "unlabeledfnames = []"
   ]
  },
  {
   "cell_type": "markdown",
   "metadata": {},
   "source": [
    "Something that might be interesting:\n",
    "Compare NN performance when trained on two types of data:\n",
    "  -> One with perfectly balanced training data\n",
    "  -> One where each batch has only one type of config\n",
    "  \n",
    "Also, when runs that have less blocks than others, loop over the file and add these to the subsequent training files to maintain an even ratio of configurations per file"
   ]
  },
  {
   "cell_type": "code",
   "execution_count": 9,
   "metadata": {},
   "outputs": [
    {
     "data": {
      "text/plain": [
       "{'T': 8687, 'X': 10001}"
      ]
     },
     "execution_count": 9,
     "metadata": {},
     "output_type": "execute_result"
    }
   ],
   "source": [
    "nblList"
   ]
  },
  {
   "cell_type": "code",
   "execution_count": 8,
   "metadata": {
    "collapsed": true
   },
   "outputs": [],
   "source": [
    "# First count blocks of each file\n",
    "nblList = {}\n",
    "nblTotal = 0\n",
    "nblMaxRun = 0 # nbl of biggest file\n",
    "for f in trnfnames:\n",
    "    fin = open(in_dir+f, 'r')\n",
    "    n = 0\n",
    "    for line in fin.readlines():\n",
    "        if line.startswith(\"Nx\"): continue\n",
    "        if line == \"\\n\":\n",
    "            n+=1\n",
    "    nblList.update({f: n})\n",
    "    if n > nblMaxRun: nblMaxRun = n\n",
    "    nblTotal+=n\n",
    "    fin.close()\n",
    "\n",
    "# How many training files?\n",
    "nTrnf = (nblMaxRun - nblTrn2Test) / nblPerTrnFile\n",
    "if (nblMaxRun - nblTrn2Test)%nblPerTrnFile != 0: nTrnf+=1"
   ]
  },
  {
   "cell_type": "code",
   "execution_count": 10,
   "metadata": {},
   "outputs": [
    {
     "data": {
      "text/plain": [
       "10001"
      ]
     },
     "execution_count": 10,
     "metadata": {},
     "output_type": "execute_result"
    }
   ],
   "source": [
    "nblMaxRun"
   ]
  },
  {
   "cell_type": "code",
   "execution_count": 21,
   "metadata": {
    "scrolled": true
   },
   "outputs": [
    {
     "name": "stdout",
     "output_type": "stream",
     "text": [
      "processing X for training data\n",
      "processing T for training data\n",
      "Done processing training files\n"
     ]
    }
   ],
   "source": [
    "for f in trnfnames:\n",
    "    print \"processing \" + f + \" for training data\"\n",
    "    fin = open(in_dir+f,'r')\n",
    "    fout = open(trn_dir+f,'w')\n",
    "    \n",
    "    bAddTest = False\n",
    "    if nblList[f] > (nTrn2Test + nblPerTrnFile):\n",
    "        fout_test = open(test_dir+f, 'w')\n",
    "        fout_unlbl = open(unlabeled_dir+f,'w')        \n",
    "        bAddTest = True\n",
    "    # calculate edge length based on vertices of first block\n",
    "    block = []\n",
    "    fin.readline() # Skip header\n",
    "    for line in fin.readlines():\n",
    "        if line == \"\\n\": break\n",
    "        block.append(line)\n",
    "    maxX, maxY = edgeLenCalc(block)\n",
    "    normX, normY = 1./maxX, 1./maxY #factors to normalize x,y\n",
    "    fin.seek(0)\n",
    "\n",
    "    nbl = 0\n",
    "    fin.readline() # Skip header\n",
    "    for line in fin.readlines():\n",
    "        if line.startswith(\"Nx\"): continue\n",
    "        if (nbl < nTrn2Test) and bAddTest:\n",
    "            if line == \"\\n\":\n",
    "                nbl+=1\n",
    "                fout_test.write('label %f\\n\\n' % (trnfnames[f]))\n",
    "                fout_unlbl.write(\"\\n\")\n",
    "                continue\n",
    "            spt = [float(x) for x in line.split()]\n",
    "            th = spt[4]\n",
    "            if nbl%2 == 0:\n",
    "                # rotate every other block pi/2\n",
    "                # note thetas should be [0,2pi]\n",
    "                th -= np.pi*0.5\n",
    "                if th < 0.: th+=2.*np.pi\n",
    "                th *= oneOver2Pi\n",
    "            fout_test.write('%f %f %f\\n' % (float(spt[2])/maxX, float(spt[3])/maxY, th))\n",
    "            fout_unlbl.write('%f %f %f\\n' % (float(spt[2])/maxX, float(spt[3])/maxY, th))\n",
    "        else:\n",
    "            if line == \"\\n\":\n",
    "                nbl+=1\n",
    "                fout.write('label %f\\n\\n' % (trnfnames[f]))\n",
    "                continue\n",
    "            spt = [float(x) for x in line.split()]\n",
    "            x,y,th = spt[2],spt[3],spt[4]\n",
    "            if nbl%2 == 0:\n",
    "                # rotate every other block pi/2\n",
    "                # note thetas should be [0,2pi]\n",
    "                th -= np.pi*0.5\n",
    "                if th < 0.: th+=2.*np.pi\n",
    "            th *= oneOver2Pi\n",
    "                \n",
    "            # write to file\n",
    "            fout.write('%f %f %f\\n' % (float(spt[2])/maxX, float(spt[3])/maxY, th))\n",
    "    fout.close()\n",
    "    fin.close()\n",
    "print \"Done processing training files\" "
   ]
  },
  {
   "cell_type": "code",
   "execution_count": null,
   "metadata": {
    "collapsed": true,
    "scrolled": true
   },
   "outputs": [],
   "source": [
    "for f in unlabeledfnames:\n",
    "    print \"processing \" + f + \" for unlabeled data\"\n",
    "    fin = open(in_dir+f, 'r')\n",
    "    fout = open(unlabeled_dir+f,'w')\n",
    "    \n",
    "    # calculate edge length based on vertices of first block\n",
    "    block = []\n",
    "    for line in fin.readlines():\n",
    "        if line == \"\\n\": break\n",
    "        block.append(line)\n",
    "    maxX, maxY = edgeLenCalc(block)\n",
    "    fin.seek(0)\n",
    "\n",
    "    for line in fin.readlines():\n",
    "        if line == \"\\n\":\n",
    "            fout.write(\"\\n\")\n",
    "            continue\n",
    "        spt = line.split(\" \")\n",
    "        th = float(spt[4])\n",
    "        if th>np.pi: th-=np.pi\n",
    "        # Append phase index\n",
    "        fout.write('%f %f %f\\n' % (float(spt[2])/maxX, float(spt[3])/maxY, th))\n",
    "    fout.close()\n",
    "    fin.close()\n",
    "print \"Done processing unlabeled data\""
   ]
  },
  {
   "cell_type": "code",
   "execution_count": null,
   "metadata": {
    "collapsed": true
   },
   "outputs": [],
   "source": [
    "def ordercalc(block):\n",
    "    thetas = []\n",
    "    for line in block:\n",
    "        spt = line.split()\n",
    "        spt = [float(x) for x in spt]\n",
    "        thetas.append([spt[i] for i in [0,1,4,9,10,11,12,13,14,15,16]])\n",
    "        \n",
    "    nbrthetas = []\n",
    "    for t in thetas:\n",
    "        select = []\n",
    "        for tt in thetas:\n",
    "            if tt[0] == t[0]: continue\n",
    "            if tt[1] == t[1]:\n",
    "                select.append(tt[2])\n",
    "            # If we want to include neighbor cells...\n",
    "#             for ni in t[3:]:\n",
    "#                 if ni == tt[1]:\n",
    "#                     select.append(tt[2])\n",
    "        nbrthetas.append([t[2], select])\n",
    "\n",
    "    S = 0.\n",
    "    N = 0\n",
    "    for r in nbrthetas:\n",
    "        for t in r[1]:\n",
    "            S += np.cos(2.*(r[0] - t))\n",
    "            N += 1\n",
    "    return S/N"
   ]
  }
 ],
 "metadata": {
  "kernelspec": {
   "display_name": "Python 2",
   "language": "python",
   "name": "python2"
  },
  "language_info": {
   "codemirror_mode": {
    "name": "ipython",
    "version": 2
   },
   "file_extension": ".py",
   "mimetype": "text/x-python",
   "name": "python",
   "nbconvert_exporter": "python",
   "pygments_lexer": "ipython2",
   "version": "2.7.13"
  }
 },
 "nbformat": 4,
 "nbformat_minor": 2
}
