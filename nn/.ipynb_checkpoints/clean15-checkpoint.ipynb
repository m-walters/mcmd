{
 "cells": [
  {
   "cell_type": "code",
   "execution_count": 1,
   "metadata": {
    "scrolled": true
   },
   "outputs": [
    {
     "name": "stdout",
     "output_type": "stream",
     "text": [
      "Done\n"
     ]
    }
   ],
   "source": [
    "import os\n",
    "import numpy as np\n",
    "\n",
    "fin = open(\"/home/michael/msc/mcmd/output/edgevar/edge15_\", 'r')\n",
    "fout = open(\"/home/michael/msc/mcmd/output/edgevar/edge15_clean\", 'w')\n",
    "\n",
    "block = []\n",
    "n = 0\n",
    "for line in fin.readlines():\n",
    "    n+=1\n",
    "    block.append(line)\n",
    "    if line == \"\\n\":\n",
    "        if n == 401:\n",
    "            for l in block:\n",
    "                fout.write(l)\n",
    "        n = 0\n",
    "        block = []\n",
    "        continue\n",
    "\n",
    "fin.close()\n",
    "fout.close()\n",
    "print \"Done\""
   ]
  }
 ],
 "metadata": {
  "kernelspec": {
   "display_name": "Python 2",
   "language": "python",
   "name": "python2"
  },
  "language_info": {
   "codemirror_mode": {
    "name": "ipython",
    "version": 2
   },
   "file_extension": ".py",
   "mimetype": "text/x-python",
   "name": "python",
   "nbconvert_exporter": "python",
   "pygments_lexer": "ipython2",
   "version": "2.7.13"
  }
 },
 "nbformat": 4,
 "nbformat_minor": 2
}
