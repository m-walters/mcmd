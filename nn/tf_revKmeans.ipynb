{
 "cells": [
  {
   "cell_type": "code",
   "execution_count": 1,
   "metadata": {},
   "outputs": [],
   "source": [
    "import tensorflow as tf\n",
    "import numpy as np\n",
    "import matplotlib.pyplot as plt\n",
    "%matplotlib inline"
   ]
  },
  {
   "cell_type": "code",
   "execution_count": 17,
   "metadata": {},
   "outputs": [],
   "source": [
    "def plot_clusters(all_samples, centroids, n_samples_per_cluster):\n",
    "    #Plot out the different clusters\n",
    "     #Choose a different colour for each cluster\n",
    "    colour = plt.cm.rainbow(np.linspace(0,1,len(centroids)))\n",
    "    for i, centroid in enumerate(centroids):\n",
    "        #Grab just the samples fpr the given cluster and plot them out with a new colour\n",
    "        samples = all_samples[i*n_samples_per_cluster:(i+1)*n_samples_per_cluster]\n",
    "        plt.scatter(samples[:,0], samples[:,1], c=colour[i])\n",
    "        #Also plot centroid\n",
    "        plt.plot(centroid[0], centroid[1], markersize=15, marker=\"x\", color='k', mew=5)\n",
    "        plt.plot(centroid[0], centroid[1], markersize=15, marker=\"x\", color='r', mew=2)\n",
    "    plt.show()\n",
    "\n",
    "def create_samples(n_clusters, n_samples_per_cluster, n_features, embiggen_factor, seed):\n",
    "    np.random.seed(seed)\n",
    "    slices = []\n",
    "    centroids = []\n",
    "    # Create samples for each cluster\n",
    "    for i in range(n_clusters):\n",
    "        samples = tf.random_normal((n_samples_per_cluster, n_features),\n",
    "                                   mean=0.0, stddev=5.0, dtype=tf.float32, seed=seed, name=\"cluster_{}\".format(i))\n",
    "        current_centroid = (np.random.random((1, n_features)) * embiggen_factor) - (embiggen_factor/2)\n",
    "        centroids.append(current_centroid)\n",
    "        samples += current_centroid\n",
    "        slices.append(samples)\n",
    "    # Create a big \"samples\" dataset\n",
    "    samples = tf.concat(slices, 0, name='samples')\n",
    "    centroids = tf.concat(centroids, 0, name='centroids')\n",
    "    return centroids, samples\n",
    "\n",
    "def choose_random_centroids(samples, n_clusters):\n",
    "    # Step 0: Initialisation: Select `n_clusters` number of random points\n",
    "    n_samples = tf.shape(samples)[0]\n",
    "    random_indices = tf.random_shuffle(tf.range(0, n_samples))\n",
    "    begin = [0,]\n",
    "    size = [n_clusters,]\n",
    "    size[0] = n_clusters\n",
    "    centroid_indices = tf.slice(random_indices, begin, size)\n",
    "    initial_centroids = tf.gather(samples, centroid_indices)\n",
    "    return initial_centroids\n",
    "\n",
    "def assign_to_nearest(samples, centroids):\n",
    "    # Finds the nearest centroid for each sample\n",
    "\n",
    "    # START from http://esciencegroup.com/2016/01/05/an-encounter-with-googles-tensorflow/\n",
    "    expanded_vectors = tf.expand_dims(samples, 0)\n",
    "    expanded_centroids = tf.expand_dims(centroids, 1)\n",
    "    distances = tf.reduce_sum( tf.square(\n",
    "               tf.subtract(expanded_vectors, expanded_centroids)), 2)\n",
    "    mins = tf.argmin(distances, 0)\n",
    "    # END from http://esciencegroup.com/2016/01/05/an-encounter-with-googles-tensorflow/\n",
    "    nearest_indices = mins\n",
    "    return nearest_indices\n",
    "\n",
    "def update_centroids(samples, nearest_indices, n_clusters):\n",
    "    # Updates the centroid to be the mean of all samples associated with it.\n",
    "    nearest_indices = tf.to_int32(nearest_indices)\n",
    "    partitions = tf.dynamic_partition(samples, nearest_indices, n_clusters)\n",
    "    new_centroids = tf.concat([tf.expand_dims(tf.reduce_mean(partition, 0), 0) for partition in partitions], 0)\n",
    "    return new_centroids"
   ]
  },
  {
   "cell_type": "code",
   "execution_count": 29,
   "metadata": {},
   "outputs": [
    {
     "data": {
      "text/plain": [
       "(TensorShape([Dimension(3), Dimension(2)]),\n",
       " TensorShape([Dimension(1500), Dimension(2)]),\n",
       " TensorShape([Dimension(1500)]))"
      ]
     },
     "execution_count": 29,
     "metadata": {},
     "output_type": "execute_result"
    }
   ],
   "source": [
    "data_centroids.shape, samples.shape, nearest_indices.shape"
   ]
  },
  {
   "cell_type": "code",
   "execution_count": 35,
   "metadata": {},
   "outputs": [
    {
     "name": "stdout",
     "output_type": "stream",
     "text": [
      "(1, 1500, 2) [[-24.234732    -5.6361933 ]\n",
      " [-21.307875     0.05049753]\n",
      " [-29.070787   -15.994404  ]\n",
      " ...\n",
      " [-19.84385      8.688988  ]\n",
      " [-12.377249    19.237701  ]\n",
      " [-21.833637    21.711456  ]] \n",
      "\n",
      "(3, 1, 2) [[-32.86691    -2.6321235]] \n",
      "\n",
      "(3, 1500, 2) [[ 74.51449     9.024435 ]\n",
      " [133.61128     7.1964555]\n",
      " [ 14.41054   178.55052  ]\n",
      " ...\n",
      " [169.60008   128.16757  ]\n",
      " [419.82617   478.28928  ]\n",
      " [121.733086  592.6099   ]] \n",
      "\n",
      "(3, 1500) [ 83.538925 140.80774  192.96106  ... 297.76764  898.1155   714.343   ] \n",
      "\n",
      "(1500,) 2 \n",
      "\n",
      "[[-28.299948   13.762105 ]\n",
      " [-15.540976    4.9136477]\n",
      " [-20.921425   27.978687 ]]\n"
     ]
    }
   ],
   "source": [
    "n_features = 2\n",
    "n_clusters = 3\n",
    "n_samples_per_cluster = 500\n",
    "seed = 700\n",
    "embiggen_factor = 70\n",
    "\n",
    "\n",
    "data_centroids, samples = create_samples(n_clusters, n_samples_per_cluster, n_features, embiggen_factor, seed)\n",
    "initial_centroids = choose_random_centroids(samples, n_clusters)\n",
    "nearest_indices = assign_to_nearest(samples, initial_centroids)\n",
    "updated_centroids = update_centroids(samples, nearest_indices, n_clusters)\n",
    "\n",
    "model = tf.global_variables_initializer()\n",
    "with tf.Session() as session:\n",
    "    samp_expand = tf.expand_dims(samples,0)\n",
    "    cent_expand = tf.expand_dims(initial_centroids,1)\n",
    "    diff = tf.square(tf.subtract(samp_expand, cent_expand))\n",
    "    dists = tf.reduce_sum(diff,2)\n",
    "    mins = tf.argmin(dists, 0)\n",
    "    \n",
    "    pyvars = session.run([samp_expand, cent_expand,diff,dists,mins])\n",
    "    for p in pyvars: print p.shape, p[0],\"\\n\"\n",
    "\n",
    "    sample_values = session.run(samples)\n",
    "    updated_centroid_value = session.run(updated_centroids)\n",
    "    print(updated_centroid_value)\n",
    "\n",
    "# plot_clusters(sample_values, updated_centroid_value, n_samples_per_cluster)"
   ]
  }
 ],
 "metadata": {
  "kernelspec": {
   "display_name": "Python 2",
   "language": "python",
   "name": "python2"
  },
  "language_info": {
   "codemirror_mode": {
    "name": "ipython",
    "version": 2
   },
   "file_extension": ".py",
   "mimetype": "text/x-python",
   "name": "python",
   "nbconvert_exporter": "python",
   "pygments_lexer": "ipython2",
   "version": "2.7.14"
  }
 },
 "nbformat": 4,
 "nbformat_minor": 2
}
