{
 "cells": [
  {
   "cell_type": "code",
   "execution_count": 1,
   "metadata": {},
   "outputs": [],
   "source": [
    "import numpy as np\n",
    "import random\n",
    "twopi = 2.*np.pi\n",
    "oneOver2Pi = 1./twopi"
   ]
  },
  {
   "cell_type": "code",
   "execution_count": 7,
   "metadata": {},
   "outputs": [],
   "source": [
    "#\n",
    "# Processing parameters\n",
    "#\n",
    "run = \"\"\n",
    "in_dir = \"/home/walterms/project/walterms/mcmd/output/\"+run+\"/\"\n",
    "out_dir = \"/home/walterms/project/walterms/mcmd/nn/data/unlbl/\"\n",
    "\n",
    "# For trnfnames, dict of run: label\n",
    "# [iso, D, T, X, U, L]\n",
    "fnames = [\"bigbox_vid\"]\n",
    "\n",
    "# nbl parameters\n",
    "# Use -1 to mean all\n",
    "nblskip = 1 # Skip first few images\n",
    "NBL = -1"
   ]
  },
  {
   "cell_type": "code",
   "execution_count": 5,
   "metadata": {},
   "outputs": [
    {
     "name": "stdout",
     "output_type": "stream",
     "text": [
      "{'bigbox_vid': 4001}\n"
     ]
    }
   ],
   "source": [
    "#### First count blocks of each file\n",
    "nblList = {}\n",
    "for f in fnames:\n",
    "    fin = open(in_dir+f, 'r')\n",
    "    n = 0\n",
    "    for line in fin.readlines():\n",
    "        if line == \"\\n\":\n",
    "            n+=1\n",
    "    nblList.update({f: n})\n",
    "    fin.close()\n",
    "print nblList"
   ]
  },
  {
   "cell_type": "code",
   "execution_count": 6,
   "metadata": {},
   "outputs": [
    {
     "name": "stdout",
     "output_type": "stream",
     "text": [
      "processing bigbox_vid for unlabeled data\n",
      "Done\n"
     ]
    }
   ],
   "source": [
    "for f in fnames:\n",
    "    nbl = 0\n",
    "    print \"processing \" + f + \" for unlabeled data\"\n",
    "    fin = open(in_dir+f, 'r')\n",
    "    fout = open(out_dir+f, 'w')\n",
    "    \n",
    "    # find width from file header\n",
    "    width, height = 0., 0.\n",
    "    l = fin.readline().split(\"|\")\n",
    "    for ll in l:\n",
    "        if \"boxEdge\" in ll:\n",
    "            width = float(ll.split()[1])\n",
    "            break\n",
    "    height = width\n",
    "    fin.seek(0)\n",
    "\n",
    "    if width == 0.:\n",
    "        # calculate edge length based on vertices of first block\n",
    "        block = []\n",
    "        for line in fin.readlines():\n",
    "            if line == \"\\n\": break\n",
    "            if line[0].isalpha(): continue\n",
    "            block.append(line)\n",
    "        fin.seek(0)\n",
    "        width, height = edgeLenCalc(block)\n",
    "\n",
    "    if not (fin.readline()[0].isalpha()): fin.seek(0)\n",
    "\n",
    "    normX, normY = 1./width, 1./height # normalize x and y\n",
    "    thNorm = oneOver2Pi\n",
    "\n",
    "    fRot = 0.\n",
    "    # adjust nblunlbl if needed\n",
    "    nblstop = NBL\n",
    "    if NBL == -1:\n",
    "        nblstop = nblList[f]\n",
    "        \n",
    "    for line in fin.readlines():\n",
    "        if nbl < nblskip:\n",
    "            if line == \"\\n\":\n",
    "                nbl += 1\n",
    "            continue\n",
    "        if line == \"\\n\":\n",
    "            fout.write(\"\\n\")\n",
    "            nbl+=1\n",
    "#             fRot = random.randint(0,3)\n",
    "#             fRot = np.random.rand(1)*4\n",
    "            if nbl > nblstop:\n",
    "                break\n",
    "            else: continue\n",
    "        spt = [float(x) for x in line.split()]\n",
    "        x,y,th = spt[2],spt[3],spt[4]\n",
    "        # Rotate block\n",
    "        # note thetas should be [0,2pi]\n",
    "        th_ = fRot*twopi*0.25\n",
    "        th += th_\n",
    "        if th > twopi: th-=twopi\n",
    "        th *= oneOver2Pi\n",
    "\n",
    "        x = np.cos(th_)*spt[2] - np.sin(th_)*spt[3]\n",
    "        y = np.sin(th_)*spt[2] + np.cos(th_)*spt[3]\n",
    "        x *= normX\n",
    "        y *= normY\n",
    "        fout.write('%f %f %f\\n' % (x, y, th))\n",
    "    fout.close()\n",
    "    fin.close()\n",
    "print \"Done\""
   ]
  },
  {
   "cell_type": "code",
   "execution_count": null,
   "metadata": {},
   "outputs": [],
   "source": [
    "twopi"
   ]
  },
  {
   "cell_type": "code",
   "execution_count": null,
   "metadata": {},
   "outputs": [],
   "source": []
  }
 ],
 "metadata": {
  "kernelspec": {
   "display_name": "Python 2",
   "language": "python",
   "name": "python2"
  },
  "language_info": {
   "codemirror_mode": {
    "name": "ipython",
    "version": 2
   },
   "file_extension": ".py",
   "mimetype": "text/x-python",
   "name": "python",
   "nbconvert_exporter": "python",
   "pygments_lexer": "ipython2",
   "version": "2.7.14"
  }
 },
 "nbformat": 4,
 "nbformat_minor": 2
}
