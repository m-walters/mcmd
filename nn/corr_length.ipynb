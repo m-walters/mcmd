{
 "cells": [
  {
   "cell_type": "code",
   "execution_count": 2,
   "metadata": {},
   "outputs": [],
   "source": [
    "import os\n",
    "import numpy as np\n",
    "import matplotlib.pyplot as plt\n",
    "%matplotlib inline\n",
    "from IPython.core.interactiveshell import InteractiveShell\n",
    "InteractiveShell.ast_node_interactivity = \"all\"\n",
    "%precision 4\n",
    "\n",
    "cos = np.cos\n",
    "sin = np.sin\n",
    "twopi = np.pi*2.\n",
    "pi = np.pi\n",
    "\n",
    "def myrotate(th):\n",
    "    # Add pi/2 to make it reference the x-axis\n",
    "    # on range [0,pi]\n",
    "    th = (th+pi/2.) if th<(3.*pi/2.) else (th-3.*pi/2.)\n",
    "    if th > pi: th -= pi\n",
    "    return th\n"
   ]
  },
  {
   "cell_type": "code",
   "execution_count": 42,
   "metadata": {},
   "outputs": [],
   "source": [
    "source = \"/home/walterms/mcmd/nn/data/unlbl/\"\n",
    "fnames = sorted([source+f for f in os.listdir(source)])\n",
    "newnames = []\n",
    "for f in fnames:\n",
    "    if f.endswith(\".log\") or f.endswith(\"swp\"): continue\n",
    "    if f.startswith(source+\"edge_3\"): \n",
    "        newnames.append(f)\n",
    "fnames = newnames\n",
    "\n",
    "# Sort based on edge size\n",
    "edges = []\n",
    "for f in fnames:\n",
    "    edg = float(f[len(source)+len(\"edge_3_\"):])\n",
    "    rh = 28**2 / (edg**2)\n",
    "    edges.append([edg,rh])\n",
    "\n",
    "idxs = np.argsort(edges,axis=0)\n",
    "edges = np.array([edges[i] for i in idxs[:,0]])\n",
    "fnames = [fnames[i] for i in idxs[:,0]]\n",
    "fnames, edges = fnames[::2], edges[::2]\n",
    "nfiles = len(fnames)"
   ]
  },
  {
   "cell_type": "code",
   "execution_count": 40,
   "metadata": {},
   "outputs": [
    {
     "name": "stdout",
     "output_type": "stream",
     "text": [
      "[[ 9.8     8.1633]\n",
      " [10.82    6.6967]\n",
      " [12.25    5.2245]]\n"
     ]
    }
   ],
   "source": [
    "# Manually select 3 files around rho_c\n",
    "f_idx = [16,19,22]\n",
    "print edges[f_idx,:]\n",
    "fnames = [fnames[i] for i in f_idx]\n",
    "edges = edges[f_idx]"
   ]
  },
  {
   "cell_type": "code",
   "execution_count": 4,
   "metadata": {},
   "outputs": [
    {
     "data": {
      "text/plain": [
       "array([[ 7.    , 16.    ],\n",
       "       [ 7.11  , 15.5088],\n",
       "       [ 7.22  , 15.0398],\n",
       "       [ 7.35  , 14.5125],\n",
       "       [ 7.47  , 14.05  ],\n",
       "       [ 7.61  , 13.5378],\n",
       "       [ 7.75  , 13.0531],\n",
       "       [ 7.9   , 12.5621],\n",
       "       [ 8.05  , 12.0983],\n",
       "       [ 8.22  , 11.6031],\n",
       "       [ 8.4   , 11.1111],\n",
       "       [ 8.6   , 10.6003],\n",
       "       [ 8.8   , 10.124 ],\n",
       "       [ 9.02  ,  9.6361],\n",
       "       [ 9.26  ,  9.1431],\n",
       "       [ 9.52  ,  8.6505],\n",
       "       [ 9.8   ,  8.1633],\n",
       "       [10.11  ,  7.6703],\n",
       "       [10.45  ,  7.1793],\n",
       "       [10.82  ,  6.6967],\n",
       "       [11.24  ,  6.2056],\n",
       "       [11.71  ,  5.7174],\n",
       "       [12.25  ,  5.2245],\n",
       "       [12.87  ,  4.7332],\n",
       "       [13.59  ,  4.245 ]])"
      ]
     },
     "execution_count": 4,
     "metadata": {},
     "output_type": "execute_result"
    }
   ],
   "source": [
    "edges[]"
   ]
  },
  {
   "cell_type": "code",
   "execution_count": 76,
   "metadata": {},
   "outputs": [],
   "source": [
    "def dist_from(ref,rs):\n",
    "    # ref is 1x2 ndarray\n",
    "    # rs is list of vectors to compare, nx2\n",
    "    return np.linalg.norm((ref-rs),axis=1)\n",
    "\n",
    "def nematicdirector(Q):\n",
    "    # Given Q matrix return order parameter and angle\n",
    "    w,v = np.linalg.eig(Q)\n",
    "    idx = np.argmax(w)\n",
    "    Lam = w[idx] # Equiv to sqrt(S*S+T*T)\n",
    "    nu = v[:,idx]\n",
    "    alpha = np.angle(np.complex(nu[0,0],nu[1,0]))\n",
    "    if alpha < 0: alpha = twopi+alpha\n",
    "    return Lam, alpha\n",
    "\n",
    "def Lambda(block,n_nbr,edge,use_bulk=False, rc=np.inf):\n",
    "    # This only considers centers\n",
    "    # Might be more effective with more precise comparisons\n",
    "    # rc is a cutoff distance\n",
    "    # ret_nbrs boolean as to if returning nbrs\n",
    "\n",
    "    if use_bulk:\n",
    "        block = block[np.where(block[:,0] > -0.25*edge)]\n",
    "        block = block[np.where(block[:,0] < 0.25*edge)]\n",
    "        block = block[np.where(block[:,1] > -0.25*edge)]\n",
    "        block = block[np.where(block[:,1] < 0.25*edge)]\n",
    "\n",
    "    block2 = block.copy()\n",
    "    nrod = len(block)\n",
    "    lambdas = []\n",
    "    z = np.zeros((nrod,1))\n",
    "    block2 = np.append(block2,z,axis=1)\n",
    "    \n",
    "    nem_dirs = []\n",
    "    \n",
    "#     # Calc S, T and global nem director\n",
    "#     S = np.mean(cos(2*block[:,2]))\n",
    "#     T = np.mean(sin(2*block[:,2]))\n",
    "#     Q = np.matrix([[S,T],[T,-S]])\n",
    "#     LAM, alpha = nematicdirector(Q)\n",
    "#     print LAM\n",
    "#     alpha = 0.\n",
    "#     print LAM, S, T, alpha\n",
    "\n",
    "    # From yao--This actually produces different results\n",
    "#     cos_0 = 0.5*(1 + S / LAM)\n",
    "#     alpha2 = np.arccos(cos_0)\n",
    "        \n",
    "    for i,rod in enumerate(block):\n",
    "        cent = np.asarray([rod[0],rod[1]])\n",
    "        dists = dist_from(cent,block2[:,:2])\n",
    "        block2[:,-1] = dists\n",
    "        block2 = block2[block2[:,-1].argsort()]\n",
    "        \n",
    "        # How many are within rc\n",
    "        if rc < np.inf:\n",
    "            n_nbr = len(np.where(block2[:,-1]<rc)[0]) - 1 # -1 the ref rod\n",
    "#         n_nbr = min(maxnbr,n_nbr)\n",
    "        \n",
    "        lam = None\n",
    "        \n",
    "        if (1):\n",
    "            # Method 3 -- From Robinson paper (also Frenkel AND Galanis)\n",
    "            th_j = block2[:n_nbr,2]\n",
    "            Q_11 = np.mean(2.*np.square(cos(th_j)) - 1.)\n",
    "            Q_12 = np.mean(2.*cos(th_j)*sin(th_j))\n",
    "            Q_22 = np.mean(2.*np.square(sin(th_j)) - 1.)\n",
    "#             w,v = np.linalg.eig(np.matrix([[Q_11,Q_12],[Q_12,Q_22]]))\n",
    "            lam = np.sqrt(Q_11*Q_11 + Q_12*Q_12) # This is correct expression for eigenvalue\n",
    "        \n",
    "        \n",
    "        lambdas.append(lam)\n",
    "    \n",
    "    return np.array(lambdas)"
   ]
  },
  {
   "cell_type": "code",
   "execution_count": 5,
   "metadata": {},
   "outputs": [],
   "source": [
    "def Lambda2(block, m, edge, nmin=5, use_bulk=False):\n",
    "    # Takes block of rods, and m for m by m cells, and edge\n",
    "    # coords go from [-edge/2, edge/2] for either x or y\n",
    "    # nmin is the minimum number of rods for a cell\n",
    "    if use_bulk:\n",
    "        block = block[np.where(block[:,0] > -0.25*edge)]\n",
    "        block = block[np.where(block[:,0] < 0.25*edge)]\n",
    "        block = block[np.where(block[:,1] > -0.25*edge)]\n",
    "        block = block[np.where(block[:,1] < 0.25*edge)]\n",
    "\n",
    "    edge *= 0.5\n",
    "    \n",
    "    nrod = len(block)\n",
    "    delm = 1./m\n",
    "    lambdas = np.zeros(shape=(m,m),dtype=float)\n",
    "    block2 = block.copy()\n",
    "    block2[:,0] = block2[:,0] / edge + 0.5\n",
    "    block2[:,1] = block2[:,1] / edge + 0.5\n",
    "    xcells = np.floor(block2[:,0] / delm)\n",
    "    ycells = np.floor(block2[:,1] / delm)\n",
    "    block2 = np.append(block2,xcells.reshape(nrod,1),axis=1)\n",
    "    block2 = np.append(block2,ycells.reshape(nrod,1),axis=1)\n",
    "\n",
    "    for xc in range(m):\n",
    "        if ignore_walls:\n",
    "            if xc == 0 or xc == m-1: continue\n",
    "        for yc in range(m):\n",
    "            if ignore_walls:\n",
    "                if yc == 0 or yc == m-1: continue\n",
    "            thetas = []\n",
    "            for rod in block2:\n",
    "                if (rod[3] == float(xc)) and (rod[4] == float(yc)):\n",
    "                    thetas.append(rod[2])\n",
    "                    \n",
    "            if len(thetas) < nmin: continue\n",
    "            S = np.mean(cos(2.* np.array(thetas)))\n",
    "            T = np.mean(sin(2.* np.array(thetas)))\n",
    "            lambdas[xc,yc] = np.sqrt(S*S+T*T)\n",
    "\n",
    "    return lambdas.flatten()"
   ]
  },
  {
   "cell_type": "code",
   "execution_count": 17,
   "metadata": {},
   "outputs": [],
   "source": [
    "def Lambda_bulk_global(block, edge):\n",
    "    block = block[np.where(block[:,0] > -0.25*edge)]\n",
    "    block = block[np.where(block[:,0] < 0.25*edge)]\n",
    "    block = block[np.where(block[:,1] > -0.25*edge)]\n",
    "    block = block[np.where(block[:,1] < 0.25*edge)]\n",
    "\n",
    "    block2 = block.copy()\n",
    "    nrod = len(block)\n",
    "#     z = np.zeros((nrod,1))\n",
    "#     block2 = np.append(block2,z,axis=1)\n",
    "\n",
    "    # Calc S, T and global nem director\n",
    "    S = np.mean(cos(2*block[:,2]))\n",
    "    T = np.mean(sin(2*block[:,2]))\n",
    "    Q = np.matrix([[S,T],[T,-S]])\n",
    "    Lam, alpha = nematicdirector(Q)\n",
    "    \n",
    "    return Lam"
   ]
  },
  {
   "cell_type": "code",
   "execution_count": 77,
   "metadata": {
    "scrolled": true
   },
   "outputs": [
    {
     "name": "stdout",
     "output_type": "stream",
     "text": [
      "/home/walterms/mcmd/nn/data/unlbl/edge_3_7.00 16.0\n",
      "/home/walterms/mcmd/nn/data/unlbl/edge_3_7.11 15.50875235647975\n",
      "/home/walterms/mcmd/nn/data/unlbl/edge_3_7.22 15.039786373646612\n",
      "/home/walterms/mcmd/nn/data/unlbl/edge_3_7.35 14.5124716553288\n",
      "/home/walterms/mcmd/nn/data/unlbl/edge_3_7.47 14.049952599330835\n",
      "/home/walterms/mcmd/nn/data/unlbl/edge_3_7.61 13.537758085097932\n",
      "/home/walterms/mcmd/nn/data/unlbl/edge_3_7.75 13.053069719042664\n",
      "/home/walterms/mcmd/nn/data/unlbl/edge_3_7.90 12.562089408748598\n",
      "/home/walterms/mcmd/nn/data/unlbl/edge_3_8.05 12.09829867674858\n",
      "/home/walterms/mcmd/nn/data/unlbl/edge_3_8.22 11.603057050337139\n",
      "/home/walterms/mcmd/nn/data/unlbl/edge_3_8.40 11.11111111111111\n",
      "/home/walterms/mcmd/nn/data/unlbl/edge_3_8.60 10.600324499729584\n",
      "/home/walterms/mcmd/nn/data/unlbl/edge_3_8.80 10.123966942148758\n",
      "/home/walterms/mcmd/nn/data/unlbl/edge_3_9.02 9.636137482116608\n",
      "/home/walterms/mcmd/nn/data/unlbl/edge_3_9.26 9.143113043397134\n",
      "/home/walterms/mcmd/nn/data/unlbl/edge_3_9.52 8.650519031141869\n",
      "/home/walterms/mcmd/nn/data/unlbl/edge_3_9.80 8.163265306122447\n",
      "/home/walterms/mcmd/nn/data/unlbl/edge_3_10.11 7.670324746287378\n",
      "/home/walterms/mcmd/nn/data/unlbl/edge_3_10.45 7.179322817701061\n",
      "/home/walterms/mcmd/nn/data/unlbl/edge_3_10.82 6.696710753345792\n",
      "/home/walterms/mcmd/nn/data/unlbl/edge_3_11.24 6.205595167234457\n",
      "/home/walterms/mcmd/nn/data/unlbl/edge_3_11.71 5.71744864688264\n",
      "/home/walterms/mcmd/nn/data/unlbl/edge_3_12.25 5.224489795918367\n",
      "/home/walterms/mcmd/nn/data/unlbl/edge_3_12.87 4.7332448264849205\n",
      "/home/walterms/mcmd/nn/data/unlbl/edge_3_13.59 4.244994669391261\n",
      "Done\n"
     ]
    }
   ],
   "source": [
    "# This block is different\n",
    "# It's for handling the FNN unlabeled dataset\n",
    "NBL = 10\n",
    "n_nbr=0\n",
    "nrod = 28**2\n",
    "RC = np.linspace(1.,10.,30)\n",
    "m = 5\n",
    "nmin = 5\n",
    "use_bulk=True\n",
    "nblskip = 2\n",
    "# nlambda = 784*NBL // 2\n",
    "# nlambda = NBL*m*m\n",
    "nlambda = NBL*nrod // 4\n",
    "\n",
    "lambdas = np.empty((nfiles,len(RC),nlambda))\n",
    "\n",
    "\n",
    "for ifile,f in enumerate(fnames):\n",
    "    fin = open(f,'r')\n",
    "    params = {}\n",
    "    params.update({\"ReducedRho\": edges[ifile,1]})\n",
    "    params.update({\"boxEdge\": edges[ifile,0]})\n",
    "    print f,params[\"ReducedRho\"]\n",
    "    edge = params[\"boxEdge\"]\n",
    "    nbl = 0\n",
    "    lambdacount = 0\n",
    "    rods = np.zeros((nrod,3))\n",
    "    cells = np.zeros((nrod,1))\n",
    "    irod = 0\n",
    "    \n",
    "    for line in fin.readlines():\n",
    "        if nbl < nblskip:\n",
    "            if line == \"\\n\": nbl+=1\n",
    "            continue\n",
    "        if line == \"\\n\":\n",
    "            # Done a block\n",
    "            #\n",
    "            # Calculate avg lambda for each rc\n",
    "            # We will use a weighted average method:\n",
    "            # Store <lambda> and number of lambdas used etc....\n",
    "            \n",
    "            for i_nb,rc in enumerate(RC):\n",
    "                L = Lambda(rods,n_nbr,edge,use_bulk=use_bulk,rc=rc)\n",
    "                if len(L) + lambdacount >= nlambda:\n",
    "                    L = L[:nlambda-lambdacount]\n",
    "                lambdas[ifile,i_nb,lambdacount:(lambdacount+len(L))] = L\n",
    "\n",
    "            # Each lambdacount will be the same for each n_nbr\n",
    "            lambdacount += len(L)\n",
    "            if lambdacount >= nlambda:\n",
    "                break\n",
    "            nbl+=1\n",
    "            rods = np.zeros((nrod,3))\n",
    "            cells = np.zeros((nrod,1))\n",
    "            irod = 0\n",
    "            continue\n",
    "\n",
    "        rod = [float(s) for s in line.split()]\n",
    "        rod[0] *= edge\n",
    "        rod[1] *= edge\n",
    "        rod[2] *= twopi\n",
    "        rods[irod] = rod\n",
    "        irod+=1\n",
    "    fin.close()\n",
    "#   print np.mean(lambdas[ifile])\n",
    "#     _=plt.plot(lambdas[ifile],'k.',markersize=2)\n",
    "#     _=plt.axis([0,nlambda,-1,1])\n",
    "#     plt.show()\n",
    "\n",
    "# lvar = np.var(lambdas,axis=1)\n",
    "# _ = plt.plot(edges[:,1],lvar,'o')\n",
    "# _ = plt.xlabel(r'$\\rho$')\n",
    "# _ = plt.ylabel(r'$\\sigma^2(\\lambda)$',rotation=\"horizontal\",labelpad=20)\n",
    "# plt.show()\n",
    "\n",
    "print \"Done\""
   ]
  },
  {
   "cell_type": "code",
   "execution_count": 43,
   "metadata": {
    "scrolled": true
   },
   "outputs": [
    {
     "name": "stdout",
     "output_type": "stream",
     "text": [
      "/home/walterms/mcmd/nn/data/unlbl/edge_3_7.00 16.0\n",
      "/home/walterms/mcmd/nn/data/unlbl/edge_3_7.11 15.50875235647975\n",
      "/home/walterms/mcmd/nn/data/unlbl/edge_3_7.22 15.039786373646612\n",
      "/home/walterms/mcmd/nn/data/unlbl/edge_3_7.35 14.5124716553288\n",
      "/home/walterms/mcmd/nn/data/unlbl/edge_3_7.47 14.049952599330835\n",
      "/home/walterms/mcmd/nn/data/unlbl/edge_3_7.61 13.537758085097932\n",
      "/home/walterms/mcmd/nn/data/unlbl/edge_3_7.75 13.053069719042664\n",
      "/home/walterms/mcmd/nn/data/unlbl/edge_3_7.90 12.562089408748598\n",
      "/home/walterms/mcmd/nn/data/unlbl/edge_3_8.05 12.09829867674858\n",
      "/home/walterms/mcmd/nn/data/unlbl/edge_3_8.22 11.603057050337139\n",
      "/home/walterms/mcmd/nn/data/unlbl/edge_3_8.40 11.11111111111111\n",
      "/home/walterms/mcmd/nn/data/unlbl/edge_3_8.60 10.600324499729584\n",
      "/home/walterms/mcmd/nn/data/unlbl/edge_3_8.80 10.123966942148758\n",
      "/home/walterms/mcmd/nn/data/unlbl/edge_3_9.02 9.636137482116608\n",
      "/home/walterms/mcmd/nn/data/unlbl/edge_3_9.26 9.143113043397134\n",
      "/home/walterms/mcmd/nn/data/unlbl/edge_3_9.52 8.650519031141869\n",
      "/home/walterms/mcmd/nn/data/unlbl/edge_3_9.80 8.163265306122447\n",
      "/home/walterms/mcmd/nn/data/unlbl/edge_3_10.11 7.670324746287378\n",
      "/home/walterms/mcmd/nn/data/unlbl/edge_3_10.45 7.179322817701061\n",
      "/home/walterms/mcmd/nn/data/unlbl/edge_3_10.82 6.696710753345792\n",
      "/home/walterms/mcmd/nn/data/unlbl/edge_3_11.24 6.205595167234457\n",
      "/home/walterms/mcmd/nn/data/unlbl/edge_3_11.71 5.71744864688264\n",
      "/home/walterms/mcmd/nn/data/unlbl/edge_3_12.25 5.224489795918367\n",
      "/home/walterms/mcmd/nn/data/unlbl/edge_3_12.87 4.7332448264849205\n",
      "/home/walterms/mcmd/nn/data/unlbl/edge_3_13.59 4.244994669391261\n",
      "Done\n"
     ]
    }
   ],
   "source": [
    "# This block is different\n",
    "# It's for handling the FNN unlabeled dataset\n",
    "NBL = 10\n",
    "nrod = 28**2\n",
    "N_NBRS = np.arange(1,31)\n",
    "m = 5\n",
    "nmin = 5\n",
    "use_bulk=True\n",
    "nblskip = 2\n",
    "# nlambda = 784*NBL // 2\n",
    "# nlambda = NBL*m*m\n",
    "nlambda = NBL*nrod // 4\n",
    "\n",
    "lambdas = np.empty((nfiles,len(N_NBRS),nlambda))\n",
    "\n",
    "\n",
    "for ifile,f in enumerate(fnames):\n",
    "    fin = open(f,'r')\n",
    "    params = {}\n",
    "    params.update({\"ReducedRho\": edges[ifile,1]})\n",
    "    params.update({\"boxEdge\": edges[ifile,0]})\n",
    "    print f,params[\"ReducedRho\"]\n",
    "    edge = params[\"boxEdge\"]\n",
    "    nbl = 0\n",
    "    lambdacount = 0\n",
    "    rods = np.zeros((nrod,3))\n",
    "    cells = np.zeros((nrod,1))\n",
    "    irod = 0\n",
    "    \n",
    "    for line in fin.readlines():\n",
    "        if nbl < nblskip:\n",
    "            if line == \"\\n\": nbl+=1\n",
    "            continue\n",
    "        if line == \"\\n\":\n",
    "            # Done a block\n",
    "            #\n",
    "            # Calculate avg lambda for each n_nbr\n",
    "            # We will use a weighted average method:\n",
    "            # Store <lambda> and number of lambdas used etc....\n",
    "            \n",
    "            for i_nb,n_nbr in enumerate(N_NBRS):\n",
    "                L = Lambda(rods,n_nbr,edge,use_bulk=use_bulk)\n",
    "                if len(L) + lambdacount >= nlambda:\n",
    "                    L = L[:nlambda-lambdacount]\n",
    "                lambdas[ifile,i_nb,lambdacount:(lambdacount+len(L))] = L\n",
    "\n",
    "            # Each lambdacount will be the same for each n_nbr\n",
    "            lambdacount += len(L)\n",
    "            if lambdacount >= nlambda:\n",
    "                break\n",
    "            nbl+=1\n",
    "            rods = np.zeros((nrod,3))\n",
    "            cells = np.zeros((nrod,1))\n",
    "            irod = 0\n",
    "            continue\n",
    "\n",
    "        rod = [float(s) for s in line.split()]\n",
    "        rod[0] *= edge\n",
    "        rod[1] *= edge\n",
    "        rod[2] *= twopi\n",
    "        rods[irod] = rod\n",
    "        irod+=1\n",
    "    fin.close()\n",
    "#   print np.mean(lambdas[ifile])\n",
    "#     _=plt.plot(lambdas[ifile],'k.',markersize=2)\n",
    "#     _=plt.axis([0,nlambda,-1,1])\n",
    "#     plt.show()\n",
    "\n",
    "# lvar = np.var(lambdas,axis=1)\n",
    "# _ = plt.plot(edges[:,1],lvar,'o')\n",
    "# _ = plt.xlabel(r'$\\rho$')\n",
    "# _ = plt.ylabel(r'$\\sigma^2(\\lambda)$',rotation=\"horizontal\",labelpad=20)\n",
    "# plt.show()\n",
    "\n",
    "print \"Done\""
   ]
  },
  {
   "cell_type": "code",
   "execution_count": 78,
   "metadata": {},
   "outputs": [],
   "source": [
    "lambdameans = np.mean(lambdas,axis=2)\n",
    "lambdavars = np.var(lambdas, axis=2)"
   ]
  },
  {
   "cell_type": "code",
   "execution_count": 79,
   "metadata": {},
   "outputs": [
    {
     "data": {
      "text/plain": [
       "(25, 30)"
      ]
     },
     "execution_count": 79,
     "metadata": {},
     "output_type": "execute_result"
    }
   ],
   "source": [
    "lambdameans.shape"
   ]
  },
  {
   "cell_type": "code",
   "execution_count": 81,
   "metadata": {},
   "outputs": [],
   "source": [
    "for fi, edg in enumerate(edges[:,0]):\n",
    "    fout = open(\"/home/walterms/mcmd/nn/data/correlation_data_rc/corr_len_edge_3_\"+str(edg)+\".dat\",'w')\n",
    "    for i,rc in enumerate(RC):\n",
    "        fout.write(\"%g %g %g\\n\"%(rc,lambdameans[fi,i],lambdavars[fi,i]))\n",
    "    fout.close()"
   ]
  },
  {
   "cell_type": "code",
   "execution_count": 87,
   "metadata": {},
   "outputs": [
    {
     "data": {
      "text/plain": [
       "array([[ 7.    , 16.    ],\n",
       "       [ 7.11  , 15.5088],\n",
       "       [ 7.22  , 15.0398],\n",
       "       [ 7.35  , 14.5125],\n",
       "       [ 7.47  , 14.05  ],\n",
       "       [ 7.61  , 13.5378],\n",
       "       [ 7.75  , 13.0531],\n",
       "       [ 7.9   , 12.5621],\n",
       "       [ 8.05  , 12.0983],\n",
       "       [ 8.22  , 11.6031],\n",
       "       [ 8.4   , 11.1111],\n",
       "       [ 8.6   , 10.6003],\n",
       "       [ 8.8   , 10.124 ],\n",
       "       [ 9.02  ,  9.6361],\n",
       "       [ 9.26  ,  9.1431],\n",
       "       [ 9.52  ,  8.6505],\n",
       "       [ 9.8   ,  8.1633],\n",
       "       [10.11  ,  7.6703],\n",
       "       [10.45  ,  7.1793],\n",
       "       [10.82  ,  6.6967],\n",
       "       [11.24  ,  6.2056],\n",
       "       [11.71  ,  5.7174],\n",
       "       [12.25  ,  5.2245],\n",
       "       [12.87  ,  4.7332],\n",
       "       [13.59  ,  4.245 ]])"
      ]
     },
     "execution_count": 87,
     "metadata": {},
     "output_type": "execute_result"
    }
   ],
   "source": [
    "edges"
   ]
  },
  {
   "cell_type": "code",
   "execution_count": 92,
   "metadata": {},
   "outputs": [
    {
     "name": "stdout",
     "output_type": "stream",
     "text": [
      "From red -> blue is nem -> iso\n",
      "The more isotropic a state, the more sensitive to rc\n"
     ]
    },
    {
     "data": {
      "image/png": "[encoded data removed]",
      "text/plain": [
       "<matplotlib.figure.Figure at 0x2b50287beed0>"
      ]
     },
     "metadata": {},
     "output_type": "display_data"
    }
   ],
   "source": [
    "print \"From red -> blue is nem -> iso\"\n",
    "print \"The more isotropic a state, the more sensitive to rc\"\n",
    "\n",
    "f,ax = plt.subplots(1,1)\n",
    "for i in range(nfiles):\n",
    "    _ = ax.plot(RC,lambdameans[i],color=(1-float(i)/nfiles, 0, float(i)/nfiles),linestyle='-')\n",
    "    \n",
    "_=ax.set_xlabel(r'$r_c$',fontsize=12)\n",
    "_=ax.set_ylabel(r'$\\langle\\lambda\\rangle$',rotation=\"horizontal\",labelpad=20,fontsize=14)"
   ]
  },
  {
   "cell_type": "code",
   "execution_count": 68,
   "metadata": {},
   "outputs": [
    {
     "name": "stdout",
     "output_type": "stream",
     "text": [
      "From red -> blue is nem -> iso\n",
      "The more isotropic a state, the more sensitive to rc\n"
     ]
    },
    {
     "data": {
      "image/png": "[encoded data removed]",
      "text/plain": [
       "<matplotlib.figure.Figure at 0x2b5028ba3710>"
      ]
     },
     "metadata": {},
     "output_type": "display_data"
    }
   ],
   "source": [
    "print \"From red -> blue is nem -> iso\"\n",
    "print \"The more isotropic a state, the more sensitive to rc\"\n",
    "\n",
    "f,ax = plt.subplots(1,1)\n",
    "for i in range(nfiles):\n",
    "    _ = ax.plot(N_NBRS,lambdameans[i],color=(1-float(i)/nfiles, 0, float(i)/nfiles),linestyle='-')\n",
    "    \n",
    "_=ax.set_xlabel(\"number of neighbors\",fontsize=12)\n",
    "_=ax.set_ylabel(r'$\\langle\\lambda\\rangle$',rotation=\"horizontal\",labelpad=20,fontsize=14)"
   ]
  },
  {
   "cell_type": "code",
   "execution_count": 86,
   "metadata": {},
   "outputs": [],
   "source": [
    "f.savefig(\"/home/walterms/mcmd/imgs/paperimgs/correlation_lengths.png\")"
   ]
  },
  {
   "cell_type": "code",
   "execution_count": 37,
   "metadata": {},
   "outputs": [
    {
     "data": {
      "text/plain": [
       "<Container object of 3 artists>"
      ]
     },
     "execution_count": 37,
     "metadata": {},
     "output_type": "execute_result"
    },
    {
     "data": {
      "text/plain": [
       "<Container object of 3 artists>"
      ]
     },
     "execution_count": 37,
     "metadata": {},
     "output_type": "execute_result"
    },
    {
     "data": {
      "text/plain": [
       "<Container object of 3 artists>"
      ]
     },
     "execution_count": 37,
     "metadata": {},
     "output_type": "execute_result"
    },
    {
     "data": {
      "image/png": "[encoded data removed]",
      "text/plain": [
       "<matplotlib.figure.Figure at 0x2b50282d1050>"
      ]
     },
     "metadata": {},
     "output_type": "display_data"
    }
   ],
   "source": [
    "plt.errorbar(N_NBRS,lambdameans[0],yerr=lambdavars[0],fmt='r',capsize=3)\n",
    "plt.errorbar(N_NBRS,lambdameans[1],yerr=lambdavars[1],fmt='b',capsize=3)\n",
    "plt.errorbar(N_NBRS,lambdameans[2],yerr=lambdavars[2],fmt='g',capsize=3)\n"
   ]
  },
  {
   "cell_type": "code",
   "execution_count": null,
   "metadata": {},
   "outputs": [],
   "source": [
    "f,ax = plt.subplots(1,1)\n",
    "plt.plot(edges[:,1],var_bulk,\"+\",edges[:,1],var_glob,\"o\")"
   ]
  },
  {
   "cell_type": "code",
   "execution_count": null,
   "metadata": {},
   "outputs": [],
   "source": [
    "f.savefig(\"/home/walterms/mcmd/imgs/paperimgs/bulk-global-compare.eps\")"
   ]
  }
 ],
 "metadata": {
  "kernelspec": {
   "display_name": "Python 2",
   "language": "python",
   "name": "python2"
  },
  "language_info": {
   "codemirror_mode": {
    "name": "ipython",
    "version": 2
   },
   "file_extension": ".py",
   "mimetype": "text/x-python",
   "name": "python",
   "nbconvert_exporter": "python",
   "pygments_lexer": "ipython2",
   "version": "2.7.14"
  }
 },
 "nbformat": 4,
 "nbformat_minor": 2
}
