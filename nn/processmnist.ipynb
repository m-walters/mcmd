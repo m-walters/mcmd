{
 "cells": [
  {
   "cell_type": "code",
   "execution_count": 4,
   "metadata": {},
   "outputs": [],
   "source": [
    "import numpy as np\n",
    "import random\n",
    "import csv"
   ]
  },
  {
   "cell_type": "code",
   "execution_count": 2,
   "metadata": {},
   "outputs": [],
   "source": [
    "import time\n",
    "\n",
    "def time_usage(func):\n",
    "    def wrapper(*args, **kwargs):\n",
    "        beg_ts = time.time()\n",
    "        retval = func(*args, **kwargs)\n",
    "        end_ts = time.time() \n",
    "        print(\"elapsed time: %f\" % (end_ts - beg_ts))\n",
    "        return retval\n",
    "    return wrapper"
   ]
  },
  {
   "cell_type": "code",
   "execution_count": 3,
   "metadata": {},
   "outputs": [],
   "source": [
    "srcdir = \"/home/walterms/mcmd/nn/data/mnist/\"\n",
    "trnfile = \"/home/walterms/mcmd/nn/data/train/mnist\"\n",
    "testfile = \"/home/walterms/mcmd/nn/data/test/mnist\"\n",
    "trnsrc = \"/home/walterms/mcmd/nn/data/mnist/mnist_train.csv\"\n",
    "testsrc = \"/home/walterms/mcmd/nn/data/mnist/mnist_test.csv\""
   ]
  },
  {
   "cell_type": "code",
   "execution_count": 10,
   "metadata": {},
   "outputs": [],
   "source": [
    "nx=ny=28"
   ]
  },
  {
   "cell_type": "code",
   "execution_count": 20,
   "metadata": {},
   "outputs": [
    {
     "name": "stdout",
     "output_type": "stream",
     "text": [
      "Done\n"
     ]
    }
   ],
   "source": [
    "# pixel ordering in csv is p11,p12,p13,...\n",
    "#\n",
    "# NOTE: my xtud files have x,y range [-0.5,0.5] and theta [0,1]\n",
    "# Let's try x,y [0,1] here\n",
    "fout = open(trnfile,'w')\n",
    "iimg = 0 \n",
    "maximg=60000\n",
    "with open(trnsrc,'r') as csvfile:\n",
    "    reader = csv.reader(csvfile,delimiter=\",\")\n",
    "    for line in reader:\n",
    "        lbl = float(line[0])\n",
    "        pixels = [float(p)/255. for p in line[1:]]\n",
    "        i = 0\n",
    "        for x in range(nx):\n",
    "            xcord = float(x)/nx\n",
    "            for y in range(ny):\n",
    "                ycord = float(y)/ny\n",
    "                fout.write('%f %f %f\\n'%(xcord,ycord,pixels[i]))\n",
    "                i+=1\n",
    "        fout.write('label %f\\n\\n'%(lbl))\n",
    "        iimg+=1\n",
    "\n",
    "fout.close()\n",
    "print \"Done\""
   ]
  },
  {
   "cell_type": "code",
   "execution_count": 21,
   "metadata": {},
   "outputs": [
    {
     "name": "stdout",
     "output_type": "stream",
     "text": [
      "Done\n"
     ]
    }
   ],
   "source": [
    "# TEST SET\n",
    "fout = open(testfile,'w')\n",
    "iimg = 0 \n",
    "with open(testsrc,'r') as csvfile:\n",
    "    reader = csv.reader(csvfile,delimiter=\",\")\n",
    "    for line in reader:\n",
    "        lbl = float(line[0])\n",
    "        pixels = [float(p)/255. for p in line[1:]]\n",
    "        i = 0\n",
    "        for x in range(nx):\n",
    "            xcord = float(x)/nx\n",
    "            for y in range(ny):\n",
    "                ycord = float(y)/ny\n",
    "                fout.write('%f %f %f\\n'%(xcord,ycord,pixels[i]))\n",
    "                i+=1\n",
    "        fout.write('label %f\\n\\n'%(lbl))\n",
    "        iimg+=1\n",
    "\n",
    "fout.close()\n",
    "print \"Done\""
   ]
  }
 ],
 "metadata": {
  "kernelspec": {
   "display_name": "Python 2",
   "language": "python",
   "name": "python2"
  },
  "language_info": {
   "codemirror_mode": {
    "name": "ipython",
    "version": 2
   },
   "file_extension": ".py",
   "mimetype": "text/x-python",
   "name": "python",
   "nbconvert_exporter": "python",
   "pygments_lexer": "ipython2",
   "version": "2.7.14"
  }
 },
 "nbformat": 4,
 "nbformat_minor": 2
}
