{
 "cells": [
  {
   "cell_type": "code",
   "execution_count": 3,
   "metadata": {},
   "outputs": [],
   "source": [
    "import numpy as np\n",
    "twopi = 2.*np.pi\n",
    "oneOver2Pi = 1./twopi"
   ]
  },
  {
   "cell_type": "code",
   "execution_count": 4,
   "metadata": {},
   "outputs": [],
   "source": [
    "def edgeLenCalc(block):\n",
    "    maxX, maxY = 0., 0.\n",
    "    for line in block:\n",
    "        spt = line.split()\n",
    "        spt = [float(x) for x in spt]\n",
    "        if spt[5] > maxX: maxX = spt[5]\n",
    "        if spt[7] > maxX: maxX = spt[7]\n",
    "        if spt[6] > maxY: maxY = spt[6]\n",
    "        if spt[8] > maxY: maxY = spt[8]\n",
    "    maxX = float(np.ceil(2*maxX))\n",
    "    maxY = float(np.ceil(2*maxY))\n",
    "    return maxX, maxY"
   ]
  },
  {
   "cell_type": "code",
   "execution_count": 7,
   "metadata": {},
   "outputs": [],
   "source": [
    "import time\n",
    "\n",
    "def time_usage(func):\n",
    "    def wrapper(*args, **kwargs):\n",
    "        beg_ts = time.time()\n",
    "        retval = func(*args, **kwargs)\n",
    "        end_ts = time.time()\n",
    "        print(\"elapsed time: %f\" % (end_ts - beg_ts))\n",
    "        return retval\n",
    "    return wrapper\n",
    "\n",
    "# @time_usage\n",
    "# def test():\n",
    "#     for i in xrange(0, 10000):\n",
    "#         pass"
   ]
  },
  {
   "cell_type": "code",
   "execution_count": 23,
   "metadata": {},
   "outputs": [],
   "source": [
    "#\n",
    "# Processing parameters\n",
    "#\n",
    "run = \"edgevar\"\n",
    "in_dir = \"/home/walterms/project/walterms/mcmd/output/\"+run+\"/\"\n",
    "trn_dir = \"/home/walterms/project/walterms/mcmd/nn/fnn/data/\"+run+\"/train/\"\n",
    "test_dir = \"/home/walterms/project/walterms/mcmd/nn/fnn/data/\"+run+\"/test/\"\n",
    "unlabeled_dir = \"/home/walterms/project/walterms/mcmd/nn/fnn/data/\"+run+\"/unlabeled/\"\n",
    "\n",
    "# For trnfnames, dict of run: label\n",
    "trnfnames = {\"edge40\": 1., \"edge10\": 0., 'edge15.25': 0.}\n",
    "nblTrn2Test = 300 # How many train blocks channelled to test\n",
    "nblPerTrnFile = 200 # Number of blocks per training file PER type (used to parse training blocks)\n",
    "\n",
    "unlabeledfnames = [\"edge20\", \"edge25\", \"edge30\", \"edge35\", \"edge15\", \n",
    "                   \"edge15.25\", \"edge15.5\", \"edge15.75\", \"edge16\", \"edge16.25\", \n",
    "                   \"edge16.25\", \"edge16.5\", \"edge16.75\", \"edge17\", \"edge17.5\",\n",
    "                   \"edge18\", \"edge18.5\", \"edge19\", \"edge19.5\", \"edge21\", \n",
    "                   \"edge22\", \"edge23\"]"
   ]
  },
  {
   "cell_type": "code",
   "execution_count": 6,
   "metadata": {
    "collapsed": true
   },
   "outputs": [],
   "source": [
    "#\n",
    "# Processing parameters\n",
    "#\n",
    "run = \"XT\"\n",
    "in_dir = \"/home/michael/msc/mcmd/output/\"+run+\"/\"\n",
    "trn_dir = \"/home/michael/msc/mcmd/nn/fnn/data/\"+run+\"/train/\"\n",
    "test_dir = \"/home/michael/msc/mcmd/nn/fnn/data/\"+run+\"/test/\"\n",
    "unlabeled_dir = \"/home/michael/msc/mcmd/nn/fnn/data/\"+run+\"/unlabeled/\"\n",
    "\n",
    "# For trnfnames, dict of run: label\n",
    "# where label is 0-5 for [D, X, T, U, L, iso] respectively\n",
    "trnfnames = {\"X\": 1., \"T\": 2.}\n",
    "\n",
    "nblTrn2Test = 300 # How many train blocks channelled to test\n",
    "nblPerTrnFile = 200 # Number of blocks per training file PER type (used to parse training blocks)\n",
    "\n",
    "unlabeledfnames = []"
   ]
  },
  {
   "cell_type": "markdown",
   "metadata": {},
   "source": [
    "Something that might be interesting:\n",
    "Compare NN performance when trained on two types of data:\n",
    "  -> One with perfectly balanced training data\n",
    "  -> One where each batch has only one type of config\n",
    "  \n",
    "Also, when runs that have less blocks than others, loop over the file and add these to the subsequent training files to maintain an even ratio of configurations per file"
   ]
  },
  {
   "cell_type": "code",
   "execution_count": 27,
   "metadata": {},
   "outputs": [
    {
     "data": {
      "text/plain": [
       "{'edge10': 4140, 'edge15.25': 10001, 'edge40': 9971}"
      ]
     },
     "execution_count": 27,
     "metadata": {},
     "output_type": "execute_result"
    }
   ],
   "source": [
    "nblList"
   ]
  },
  {
   "cell_type": "code",
   "execution_count": 26,
   "metadata": {},
   "outputs": [],
   "source": [
    "# First count blocks of each file\n",
    "nblList = {}\n",
    "nblTotal = 0\n",
    "nblMaxRun = 0 # nbl of biggest file\n",
    "for f in trnfnames:\n",
    "    fin = open(in_dir+f, 'r')\n",
    "    n = 0\n",
    "    for line in fin.readlines():\n",
    "        if line == \"\\n\":\n",
    "            n+=1\n",
    "    nblList.update({f: n})\n",
    "    if n > nblMaxRun: nblMaxRun = n\n",
    "    nblTotal+=n\n",
    "    fin.close()\n",
    "\n",
    "# How many training files?\n",
    "nTrnf = (nblMaxRun - nblTrn2Test) / nblPerTrnFile\n",
    "if (nblMaxRun - nblTrn2Test)%nblPerTrnFile != 0: nTrnf+=1"
   ]
  },
  {
   "cell_type": "code",
   "execution_count": 32,
   "metadata": {},
   "outputs": [
    {
     "name": "stdout",
     "output_type": "stream",
     "text": [
      "processing edge10 for training data\n",
      "processing edge15.25 for training data\n",
      "processing edge40 for training data\n",
      "Done processing training files\n",
      "elapsed time: 76.426756\n"
     ]
    }
   ],
   "source": [
    "processTrain()"
   ]
  },
  {
   "cell_type": "code",
   "execution_count": 31,
   "metadata": {
    "scrolled": true
   },
   "outputs": [],
   "source": [
    "@time_usage\n",
    "def processTrain():\n",
    "    maxtrn = 5000\n",
    "    for f in trnfnames:\n",
    "        print \"processing \" + f + \" for training data\"\n",
    "        fin = open(in_dir+f,'r')\n",
    "        fout = open(trn_dir+f,'w')\n",
    "\n",
    "        bAddTest = False\n",
    "        if nblList[f] > (nblTrn2Test + nblPerTrnFile):\n",
    "            fout_test = open(test_dir+f, 'w')\n",
    "            fout_unlbl = open(unlabeled_dir+f,'w')        \n",
    "            bAddTest = True\n",
    "        # calculate edge length based on vertices of first block\n",
    "        block = []\n",
    "        for line in fin.readlines():\n",
    "            if line == \"\\n\": break\n",
    "            if line[0].isalpha(): continue\n",
    "            block.append(line)\n",
    "\n",
    "        maxX, maxY = edgeLenCalc(block)\n",
    "        normX, normY = 1./maxX, 1./maxY # normalize x and y\n",
    "        fin.seek(0)\n",
    "        if not (fin.readline()[0].isalpha()): fin.seek(0)\n",
    "\n",
    "        nbl = 0\n",
    "        fRot = 0 # rotation factor: 0,1,2,3. Multiplied by pi/2\n",
    "        for line in fin.readlines():\n",
    "            if (nbl>500) and (nbl < nblTrn2Test+500) and bAddTest:\n",
    "                if line == \"\\n\":\n",
    "                    nbl+=1\n",
    "                    fRot = (fRot+1)%4\n",
    "                    fout_test.write('label %f\\n\\n' % (trnfnames[f]))\n",
    "                    fout_unlbl.write(\"\\n\")\n",
    "                    if (nbl == nblTrn2Test+500) and bAddTest:\n",
    "                        fout_test.close()\n",
    "                        fout_unlbl.close()\n",
    "                    continue\n",
    "                spt = [float(x) for x in line.split()]\n",
    "                x,y,th = spt[2],spt[3],spt[4]\n",
    "                # Rotate block\n",
    "                # note thetas should be [0,2pi] initially\n",
    "                th_ = fRot*np.pi*0.5\n",
    "                th += th_\n",
    "                if th > twopi: th-=twopi\n",
    "                th *= oneOver2Pi\n",
    "                x = np.cos(th_)*spt[2] - np.sin(th_)*spt[3]\n",
    "                y = np.cos(th_)*spt[3] + np.cos(th_)*spt[2]\n",
    "                # shift and normalize\n",
    "                x = normX*(x+maxX/2.)\n",
    "                y = normY*(y+maxY/2.)\n",
    "                fout_test.write('%f %f %f\\n' % (x, y, th))\n",
    "                fout_unlbl.write('%f %f %f\\n' % (x, y, th))\n",
    "            else:\n",
    "                if line == \"\\n\":\n",
    "                    nbl+=1\n",
    "                    fRot = (fRot+1)%4\n",
    "                    fout.write('label %f\\n\\n' % (trnfnames[f]))\n",
    "                    if nbl > maxtrn: break\n",
    "                    continue\n",
    "                spt = [float(x) for x in line.split()]\n",
    "                x,y,th = spt[2],spt[3],spt[4]\n",
    "                # Rotate block\n",
    "                # note thetas should be [0,2pi]\n",
    "                th_ = fRot*np.pi*0.5\n",
    "                th += th_\n",
    "                if th > twopi: th-=twopi\n",
    "                th *= oneOver2Pi\n",
    "                x = np.cos(th_)*spt[2] - np.sin(th_)*spt[3]\n",
    "                y = np.cos(th_)*spt[3] + np.cos(th_)*spt[2]\n",
    "                # shift and normalize\n",
    "                x = normX*(x+maxX/2.)\n",
    "                y = normY*(y+maxY/2.)\n",
    "                # write to file\n",
    "                fout.write('%f %f %f\\n' % (x, y, th))\n",
    "        fout.close()\n",
    "        fin.close()\n",
    "    print \"Done processing training files\" "
   ]
  },
  {
   "cell_type": "code",
   "execution_count": 48,
   "metadata": {},
   "outputs": [],
   "source": [
    "unlabeledfnames_s = unlabeledfnames"
   ]
  },
  {
   "cell_type": "code",
   "execution_count": 13,
   "metadata": {
    "scrolled": true
   },
   "outputs": [
    {
     "name": "stdout",
     "output_type": "stream",
     "text": [
      "processing edge20 for unlabeled data\n",
      "processing edge25 for unlabeled data\n",
      "processing edge30 for unlabeled data\n",
      "processing edge35 for unlabeled data\n",
      "processing edge15 for unlabeled data\n",
      "processing edge15.25 for unlabeled data\n",
      "processing edge15.5 for unlabeled data\n",
      "processing edge15.75 for unlabeled data\n",
      "processing edge16 for unlabeled data\n",
      "processing edge16.25 for unlabeled data\n",
      "processing edge16.25 for unlabeled data\n",
      "processing edge16.5 for unlabeled data\n",
      "processing edge16.75 for unlabeled data\n",
      "processing edge17 for unlabeled data\n",
      "processing edge17.5 for unlabeled data\n",
      "processing edge18 for unlabeled data\n",
      "processing edge18.5 for unlabeled data\n",
      "processing edge19 for unlabeled data\n",
      "processing edge19.5 for unlabeled data\n",
      "processing edge21 for unlabeled data\n",
      "processing edge22 for unlabeled data\n",
      "processing edge23 for unlabeled data\n",
      "Done processing unlabeled data\n"
     ]
    }
   ],
   "source": [
    "maxunlbl = 2000\n",
    "for f in unlabeledfnames:\n",
    "    nbl = 0\n",
    "    print \"processing \" + f + \" for unlabeled data\"\n",
    "    fin = open(in_dir+f, 'r')\n",
    "    fout = open(unlabeled_dir+f,'w')\n",
    "    \n",
    "    # calculate edge length based on vertices of first block\n",
    "    block = []\n",
    "    for line in fin.readlines():\n",
    "        if line == \"\\n\": break\n",
    "        if line[0].isalpha(): continue\n",
    "        block.append(line)\n",
    "    fin.seek(0)\n",
    "    maxX, maxY = edgeLenCalc(block)\n",
    "    normX, normY = 1./maxX, 1./maxY # normalize x and y\n",
    "\n",
    "    if not (fin.readline()[0].isalpha()): fin.seek(0)\n",
    "    fRot = 0\n",
    "    for line in fin.readlines():\n",
    "        if line == \"\\n\":\n",
    "            fout.write(\"\\n\")\n",
    "            nbl+=1\n",
    "            fRot = (fRot+1)%4\n",
    "            if nbl==maxunlbl: break\n",
    "            continue\n",
    "        spt = [float(x) for x in line.split()]\n",
    "        x,y,th = spt[2],spt[3],spt[4]\n",
    "        # Rotate block\n",
    "        # note thetas should be [0,2pi]\n",
    "        th_ = fRot*np.pi*0.5\n",
    "        th += th_\n",
    "        if th > twopi: th-=twopi\n",
    "        x = np.cos(th_)*spt[2] - np.sin(th_)*spt[3]\n",
    "        y = np.cos(th_)*spt[3] + np.cos(th_)*spt[2]\n",
    "        th *= oneOver2Pi\n",
    "        x *= normX*(x+maxX/2.)\n",
    "        y *= normY*(y+maxY/2.)\n",
    "        fout.write('%f %f %f\\n' % (x, y, th))\n",
    "    fout.close()\n",
    "    fin.close()\n",
    "print \"Done processing unlabeled data\""
   ]
  }
 ],
 "metadata": {
  "kernelspec": {
   "display_name": "Python 2",
   "language": "python",
   "name": "python2"
  },
  "language_info": {
   "codemirror_mode": {
    "name": "ipython",
    "version": 2
   },
   "file_extension": ".py",
   "mimetype": "text/x-python",
   "name": "python",
   "nbconvert_exporter": "python",
   "pygments_lexer": "ipython2",
   "version": "2.7.13"
  }
 },
 "nbformat": 4,
 "nbformat_minor": 2
}
